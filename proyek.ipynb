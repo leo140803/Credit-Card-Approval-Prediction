{
 "cells": [
  {
   "cell_type": "code",
   "execution_count": 1,
   "metadata": {},
   "outputs": [
    {
     "name": "stderr",
     "output_type": "stream",
     "text": [
      "24/05/19 21:24:30 WARN Utils: Your hostname, Leonardos-MacBook-Pro.local resolves to a loopback address: 127.0.0.1; using 192.168.2.106 instead (on interface en0)\n",
      "24/05/19 21:24:30 WARN Utils: Set SPARK_LOCAL_IP if you need to bind to another address\n",
      "Setting default log level to \"WARN\".\n",
      "To adjust logging level use sc.setLogLevel(newLevel). For SparkR, use setLogLevel(newLevel).\n",
      "24/05/19 21:24:30 WARN NativeCodeLoader: Unable to load native-hadoop library for your platform... using builtin-java classes where applicable\n"
     ]
    }
   ],
   "source": [
    "from pyspark import SparkContext, SparkConf\n",
    "from pyspark.sql import SparkSession\n",
    "conf = SparkConf().setAppName('myApp') \\\n",
    ".setMaster('local')\n",
    "sc = SparkContext(conf=conf)\n",
    "spark = SparkSession(sc) \n"
   ]
  },
  {
   "cell_type": "code",
   "execution_count": 4,
   "metadata": {},
   "outputs": [
    {
     "name": "stdout",
     "output_type": "stream",
     "text": [
      "+-------+-----------+------------+---------------+------------+----------------+--------------------+-----------------------------+--------------------+-----------------+----------+-------------+----------+---------------+----------+----------+---------------+---------------+\n",
      "|     ID|CODE_GENDER|FLAG_OWN_CAR|FLAG_OWN_REALTY|CNT_CHILDREN|AMT_INCOME_TOTAL|    NAME_INCOME_TYPE|          NAME_EDUCATION_TYPE|  NAME_FAMILY_STATUS|NAME_HOUSING_TYPE|DAYS_BIRTH|DAYS_EMPLOYED|FLAG_MOBIL|FLAG_WORK_PHONE|FLAG_PHONE|FLAG_EMAIL|OCCUPATION_TYPE|CNT_FAM_MEMBERS|\n",
      "+-------+-----------+------------+---------------+------------+----------------+--------------------+-----------------------------+--------------------+-----------------+----------+-------------+----------+---------------+----------+----------+---------------+---------------+\n",
      "|5008804|          M|           Y|              Y|           0|        427500.0|             Working|             Higher education|      Civil marriage| Rented apartment|    -12005|        -4542|         1|              1|         0|         0|           NULL|            2.0|\n",
      "|5008805|          M|           Y|              Y|           0|        427500.0|             Working|             Higher education|      Civil marriage| Rented apartment|    -12005|        -4542|         1|              1|         0|         0|           NULL|            2.0|\n",
      "|5008806|          M|           Y|              Y|           0|        112500.0|             Working|Secondary / secondary special|             Married|House / apartment|    -21474|        -1134|         1|              0|         0|         0| Security staff|            2.0|\n",
      "|5008808|          F|           N|              Y|           0|        270000.0|Commercial associate|Secondary / secondary special|Single / not married|House / apartment|    -19110|        -3051|         1|              0|         1|         1|    Sales staff|            1.0|\n",
      "|5008809|          F|           N|              Y|           0|        270000.0|Commercial associate|Secondary / secondary special|Single / not married|House / apartment|    -19110|        -3051|         1|              0|         1|         1|    Sales staff|            1.0|\n",
      "|5008810|          F|           N|              Y|           0|        270000.0|Commercial associate|Secondary / secondary special|Single / not married|House / apartment|    -19110|        -3051|         1|              0|         1|         1|    Sales staff|            1.0|\n",
      "|5008811|          F|           N|              Y|           0|        270000.0|Commercial associate|Secondary / secondary special|Single / not married|House / apartment|    -19110|        -3051|         1|              0|         1|         1|    Sales staff|            1.0|\n",
      "|5008812|          F|           N|              Y|           0|        283500.0|           Pensioner|             Higher education|           Separated|House / apartment|    -22464|       365243|         1|              0|         0|         0|           NULL|            1.0|\n",
      "|5008813|          F|           N|              Y|           0|        283500.0|           Pensioner|             Higher education|           Separated|House / apartment|    -22464|       365243|         1|              0|         0|         0|           NULL|            1.0|\n",
      "|5008814|          F|           N|              Y|           0|        283500.0|           Pensioner|             Higher education|           Separated|House / apartment|    -22464|       365243|         1|              0|         0|         0|           NULL|            1.0|\n",
      "|5008815|          M|           Y|              Y|           0|        270000.0|             Working|             Higher education|             Married|House / apartment|    -16872|         -769|         1|              1|         1|         1|    Accountants|            2.0|\n",
      "|5112956|          M|           Y|              Y|           0|        270000.0|             Working|             Higher education|             Married|House / apartment|    -16872|         -769|         1|              1|         1|         1|    Accountants|            2.0|\n",
      "|6153651|          M|           Y|              Y|           0|        270000.0|             Working|             Higher education|             Married|House / apartment|    -16872|         -769|         1|              1|         1|         1|    Accountants|            2.0|\n",
      "|5008819|          M|           Y|              Y|           0|        135000.0|Commercial associate|Secondary / secondary special|             Married|House / apartment|    -17778|        -1194|         1|              0|         0|         0|       Laborers|            2.0|\n",
      "|5008820|          M|           Y|              Y|           0|        135000.0|Commercial associate|Secondary / secondary special|             Married|House / apartment|    -17778|        -1194|         1|              0|         0|         0|       Laborers|            2.0|\n",
      "|5008821|          M|           Y|              Y|           0|        135000.0|Commercial associate|Secondary / secondary special|             Married|House / apartment|    -17778|        -1194|         1|              0|         0|         0|       Laborers|            2.0|\n",
      "|5008822|          M|           Y|              Y|           0|        135000.0|Commercial associate|Secondary / secondary special|             Married|House / apartment|    -17778|        -1194|         1|              0|         0|         0|       Laborers|            2.0|\n",
      "|5008823|          M|           Y|              Y|           0|        135000.0|Commercial associate|Secondary / secondary special|             Married|House / apartment|    -17778|        -1194|         1|              0|         0|         0|       Laborers|            2.0|\n",
      "|5008824|          M|           Y|              Y|           0|        135000.0|Commercial associate|Secondary / secondary special|             Married|House / apartment|    -17778|        -1194|         1|              0|         0|         0|       Laborers|            2.0|\n",
      "|5008825|          F|           Y|              N|           0|        130500.0|             Working|            Incomplete higher|             Married|House / apartment|    -10669|        -1103|         1|              0|         0|         0|    Accountants|            2.0|\n",
      "|5008826|          F|           Y|              N|           0|        130500.0|             Working|            Incomplete higher|             Married|House / apartment|    -10669|        -1103|         1|              0|         0|         0|    Accountants|            2.0|\n",
      "|5008830|          F|           N|              Y|           0|        157500.0|             Working|Secondary / secondary special|             Married|House / apartment|    -10031|        -1469|         1|              0|         1|         0|       Laborers|            2.0|\n",
      "|5008831|          F|           N|              Y|           0|        157500.0|             Working|Secondary / secondary special|             Married|House / apartment|    -10031|        -1469|         1|              0|         1|         0|       Laborers|            2.0|\n",
      "|5008832|          F|           N|              Y|           0|        157500.0|             Working|Secondary / secondary special|             Married|House / apartment|    -10031|        -1469|         1|              0|         1|         0|       Laborers|            2.0|\n",
      "|5008834|          F|           N|              Y|           1|        112500.0|             Working|Secondary / secondary special|Single / not married|House / apartment|    -10968|        -1620|         1|              0|         0|         0|           NULL|            2.0|\n",
      "|5008835|          F|           N|              Y|           1|        112500.0|             Working|Secondary / secondary special|Single / not married|House / apartment|    -10968|        -1620|         1|              0|         0|         0|           NULL|            2.0|\n",
      "|6153712|          F|           N|              Y|           1|        112500.0|             Working|Secondary / secondary special|Single / not married|House / apartment|    -10968|        -1620|         1|              0|         0|         0|           NULL|            2.0|\n",
      "|5008836|          M|           Y|              Y|           3|        270000.0|             Working|Secondary / secondary special|             Married|House / apartment|    -12689|        -1163|         1|              0|         0|         0|       Laborers|            5.0|\n",
      "|5008837|          M|           Y|              Y|           3|        270000.0|             Working|Secondary / secondary special|             Married|House / apartment|    -12689|        -1163|         1|              0|         0|         0|       Laborers|            5.0|\n",
      "|5008838|          M|           N|              Y|           1|        405000.0|Commercial associate|             Higher education|             Married|House / apartment|    -11842|        -2016|         1|              0|         0|         0|       Managers|            3.0|\n",
      "+-------+-----------+------------+---------------+------------+----------------+--------------------+-----------------------------+--------------------+-----------------+----------+-------------+----------+---------------+----------+----------+---------------+---------------+\n",
      "only showing top 30 rows\n",
      "\n"
     ]
    }
   ],
   "source": [
    "df_application = spark.read.format('csv').options(header=True).load('/Users/leonardonickholasandrianto/Documents/Kuliah/Semester 6/BIG DATA/Project/application_record.csv')\n",
    "df_application.show(30, truncate=50)"
   ]
  },
  {
   "cell_type": "code",
   "execution_count": 5,
   "metadata": {},
   "outputs": [
    {
     "name": "stdout",
     "output_type": "stream",
     "text": [
      "+-------+--------------+------+\n",
      "|     ID|MONTHS_BALANCE|STATUS|\n",
      "+-------+--------------+------+\n",
      "|5001711|             0|     X|\n",
      "|5001711|            -1|     0|\n",
      "|5001711|            -2|     0|\n",
      "|5001711|            -3|     0|\n",
      "|5001712|             0|     C|\n",
      "|5001712|            -1|     C|\n",
      "|5001712|            -2|     C|\n",
      "|5001712|            -3|     C|\n",
      "|5001712|            -4|     C|\n",
      "|5001712|            -5|     C|\n",
      "|5001712|            -6|     C|\n",
      "|5001712|            -7|     C|\n",
      "|5001712|            -8|     C|\n",
      "|5001712|            -9|     0|\n",
      "|5001712|           -10|     0|\n",
      "|5001712|           -11|     0|\n",
      "|5001712|           -12|     0|\n",
      "|5001712|           -13|     0|\n",
      "|5001712|           -14|     0|\n",
      "|5001712|           -15|     0|\n",
      "|5001712|           -16|     0|\n",
      "|5001712|           -17|     0|\n",
      "|5001712|           -18|     0|\n",
      "|5001713|             0|     X|\n",
      "|5001713|            -1|     X|\n",
      "|5001713|            -2|     X|\n",
      "|5001713|            -3|     X|\n",
      "|5001713|            -4|     X|\n",
      "|5001713|            -5|     X|\n",
      "|5001713|            -6|     X|\n",
      "+-------+--------------+------+\n",
      "only showing top 30 rows\n",
      "\n"
     ]
    }
   ],
   "source": [
    "df_credit = spark.read.format('csv').options(header=True).load('/Users/leonardonickholasandrianto/Documents/Kuliah/Semester 6/BIG DATA/Project/credit_record.csv')\n",
    "df_credit.show(30, truncate=50)"
   ]
  }
 ],
 "metadata": {
  "kernelspec": {
   "display_name": "Python 3 (ipykernel)",
   "language": "python",
   "name": "python3"
  },
  "language_info": {
   "codemirror_mode": {
    "name": "ipython",
    "version": 3
   },
   "file_extension": ".py",
   "mimetype": "text/x-python",
   "name": "python",
   "nbconvert_exporter": "python",
   "pygments_lexer": "ipython3",
   "version": "3.11.8"
  }
 },
 "nbformat": 4,
 "nbformat_minor": 2
}
