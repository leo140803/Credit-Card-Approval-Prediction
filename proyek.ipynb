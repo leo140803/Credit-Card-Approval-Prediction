{
 "cells": [
  {
   "cell_type": "code",
   "execution_count": 23,
   "metadata": {},
   "outputs": [
    {
     "ename": "NameError",
     "evalue": "name 'spark' is not defined",
     "output_type": "error",
     "traceback": [
      "\u001b[0;31m---------------------------------------------------------------------------\u001b[0m",
      "\u001b[0;31mNameError\u001b[0m                                 Traceback (most recent call last)",
      "Cell \u001b[0;32mIn[1], line 1\u001b[0m\n\u001b[0;32m----> 1\u001b[0m \u001b[43mspark\u001b[49m\u001b[38;5;241m.\u001b[39mstop()\n",
      "\u001b[0;31mNameError\u001b[0m: name 'spark' is not defined"
     ]
    }
   ],
   "source": [
    "# spark.stop()"
   ]
  },
  {
   "cell_type": "code",
   "execution_count": 1,
   "metadata": {},
   "outputs": [
    {
     "name": "stderr",
     "output_type": "stream",
     "text": [
      "24/05/22 11:25:17 WARN Utils: Your hostname, Leonardos-MacBook-Pro.local resolves to a loopback address: 127.0.0.1; using 172.22.17.139 instead (on interface en0)\n",
      "24/05/22 11:25:17 WARN Utils: Set SPARK_LOCAL_IP if you need to bind to another address\n",
      "Setting default log level to \"WARN\".\n",
      "To adjust logging level use sc.setLogLevel(newLevel). For SparkR, use setLogLevel(newLevel).\n",
      "24/05/22 11:25:18 WARN NativeCodeLoader: Unable to load native-hadoop library for your platform... using builtin-java classes where applicable\n"
     ]
    }
   ],
   "source": [
    "from pyspark import SparkContext, SparkConf\n",
    "from pyspark.sql import SparkSession\n",
    "conf = SparkConf().setAppName('myApp') \\\n",
    ".setMaster('local')\n",
    "sc = SparkContext(conf=conf)\n",
    "spark = SparkSession(sc) \n"
   ]
  },
  {
   "cell_type": "code",
   "execution_count": 2,
   "metadata": {},
   "outputs": [],
   "source": [
    "from pyspark.sql.functions import *\n",
    "import pandas as pd\n",
    "import math"
   ]
  },
  {
   "cell_type": "code",
   "execution_count": 3,
   "metadata": {},
   "outputs": [
    {
     "name": "stdout",
     "output_type": "stream",
     "text": [
      "+-------+-----------+------------+---------------+------------+----------------+--------------------+-----------------------------+--------------------+-----------------+----------+-------------+----------+---------------+----------+----------+---------------+---------------+\n",
      "|     ID|CODE_GENDER|FLAG_OWN_CAR|FLAG_OWN_REALTY|CNT_CHILDREN|AMT_INCOME_TOTAL|    NAME_INCOME_TYPE|          NAME_EDUCATION_TYPE|  NAME_FAMILY_STATUS|NAME_HOUSING_TYPE|DAYS_BIRTH|DAYS_EMPLOYED|FLAG_MOBIL|FLAG_WORK_PHONE|FLAG_PHONE|FLAG_EMAIL|OCCUPATION_TYPE|CNT_FAM_MEMBERS|\n",
      "+-------+-----------+------------+---------------+------------+----------------+--------------------+-----------------------------+--------------------+-----------------+----------+-------------+----------+---------------+----------+----------+---------------+---------------+\n",
      "|5008804|          M|           Y|              Y|           0|        427500.0|             Working|             Higher education|      Civil marriage| Rented apartment|    -12005|        -4542|         1|              1|         0|         0|           NULL|            2.0|\n",
      "|5008805|          M|           Y|              Y|           0|        427500.0|             Working|             Higher education|      Civil marriage| Rented apartment|    -12005|        -4542|         1|              1|         0|         0|           NULL|            2.0|\n",
      "|5008806|          M|           Y|              Y|           0|        112500.0|             Working|Secondary / secondary special|             Married|House / apartment|    -21474|        -1134|         1|              0|         0|         0| Security staff|            2.0|\n",
      "|5008808|          F|           N|              Y|           0|        270000.0|Commercial associate|Secondary / secondary special|Single / not married|House / apartment|    -19110|        -3051|         1|              0|         1|         1|    Sales staff|            1.0|\n",
      "|5008809|          F|           N|              Y|           0|        270000.0|Commercial associate|Secondary / secondary special|Single / not married|House / apartment|    -19110|        -3051|         1|              0|         1|         1|    Sales staff|            1.0|\n",
      "|5008810|          F|           N|              Y|           0|        270000.0|Commercial associate|Secondary / secondary special|Single / not married|House / apartment|    -19110|        -3051|         1|              0|         1|         1|    Sales staff|            1.0|\n",
      "|5008811|          F|           N|              Y|           0|        270000.0|Commercial associate|Secondary / secondary special|Single / not married|House / apartment|    -19110|        -3051|         1|              0|         1|         1|    Sales staff|            1.0|\n",
      "|5008812|          F|           N|              Y|           0|        283500.0|           Pensioner|             Higher education|           Separated|House / apartment|    -22464|       365243|         1|              0|         0|         0|           NULL|            1.0|\n",
      "|5008813|          F|           N|              Y|           0|        283500.0|           Pensioner|             Higher education|           Separated|House / apartment|    -22464|       365243|         1|              0|         0|         0|           NULL|            1.0|\n",
      "|5008814|          F|           N|              Y|           0|        283500.0|           Pensioner|             Higher education|           Separated|House / apartment|    -22464|       365243|         1|              0|         0|         0|           NULL|            1.0|\n",
      "|5008815|          M|           Y|              Y|           0|        270000.0|             Working|             Higher education|             Married|House / apartment|    -16872|         -769|         1|              1|         1|         1|    Accountants|            2.0|\n",
      "|5112956|          M|           Y|              Y|           0|        270000.0|             Working|             Higher education|             Married|House / apartment|    -16872|         -769|         1|              1|         1|         1|    Accountants|            2.0|\n",
      "|6153651|          M|           Y|              Y|           0|        270000.0|             Working|             Higher education|             Married|House / apartment|    -16872|         -769|         1|              1|         1|         1|    Accountants|            2.0|\n",
      "|5008819|          M|           Y|              Y|           0|        135000.0|Commercial associate|Secondary / secondary special|             Married|House / apartment|    -17778|        -1194|         1|              0|         0|         0|       Laborers|            2.0|\n",
      "|5008820|          M|           Y|              Y|           0|        135000.0|Commercial associate|Secondary / secondary special|             Married|House / apartment|    -17778|        -1194|         1|              0|         0|         0|       Laborers|            2.0|\n",
      "|5008821|          M|           Y|              Y|           0|        135000.0|Commercial associate|Secondary / secondary special|             Married|House / apartment|    -17778|        -1194|         1|              0|         0|         0|       Laborers|            2.0|\n",
      "|5008822|          M|           Y|              Y|           0|        135000.0|Commercial associate|Secondary / secondary special|             Married|House / apartment|    -17778|        -1194|         1|              0|         0|         0|       Laborers|            2.0|\n",
      "|5008823|          M|           Y|              Y|           0|        135000.0|Commercial associate|Secondary / secondary special|             Married|House / apartment|    -17778|        -1194|         1|              0|         0|         0|       Laborers|            2.0|\n",
      "|5008824|          M|           Y|              Y|           0|        135000.0|Commercial associate|Secondary / secondary special|             Married|House / apartment|    -17778|        -1194|         1|              0|         0|         0|       Laborers|            2.0|\n",
      "|5008825|          F|           Y|              N|           0|        130500.0|             Working|            Incomplete higher|             Married|House / apartment|    -10669|        -1103|         1|              0|         0|         0|    Accountants|            2.0|\n",
      "|5008826|          F|           Y|              N|           0|        130500.0|             Working|            Incomplete higher|             Married|House / apartment|    -10669|        -1103|         1|              0|         0|         0|    Accountants|            2.0|\n",
      "|5008830|          F|           N|              Y|           0|        157500.0|             Working|Secondary / secondary special|             Married|House / apartment|    -10031|        -1469|         1|              0|         1|         0|       Laborers|            2.0|\n",
      "|5008831|          F|           N|              Y|           0|        157500.0|             Working|Secondary / secondary special|             Married|House / apartment|    -10031|        -1469|         1|              0|         1|         0|       Laborers|            2.0|\n",
      "|5008832|          F|           N|              Y|           0|        157500.0|             Working|Secondary / secondary special|             Married|House / apartment|    -10031|        -1469|         1|              0|         1|         0|       Laborers|            2.0|\n",
      "|5008834|          F|           N|              Y|           1|        112500.0|             Working|Secondary / secondary special|Single / not married|House / apartment|    -10968|        -1620|         1|              0|         0|         0|           NULL|            2.0|\n",
      "|5008835|          F|           N|              Y|           1|        112500.0|             Working|Secondary / secondary special|Single / not married|House / apartment|    -10968|        -1620|         1|              0|         0|         0|           NULL|            2.0|\n",
      "|6153712|          F|           N|              Y|           1|        112500.0|             Working|Secondary / secondary special|Single / not married|House / apartment|    -10968|        -1620|         1|              0|         0|         0|           NULL|            2.0|\n",
      "|5008836|          M|           Y|              Y|           3|        270000.0|             Working|Secondary / secondary special|             Married|House / apartment|    -12689|        -1163|         1|              0|         0|         0|       Laborers|            5.0|\n",
      "|5008837|          M|           Y|              Y|           3|        270000.0|             Working|Secondary / secondary special|             Married|House / apartment|    -12689|        -1163|         1|              0|         0|         0|       Laborers|            5.0|\n",
      "|5008838|          M|           N|              Y|           1|        405000.0|Commercial associate|             Higher education|             Married|House / apartment|    -11842|        -2016|         1|              0|         0|         0|       Managers|            3.0|\n",
      "+-------+-----------+------------+---------------+------------+----------------+--------------------+-----------------------------+--------------------+-----------------+----------+-------------+----------+---------------+----------+----------+---------------+---------------+\n",
      "only showing top 30 rows\n",
      "\n",
      "root\n",
      " |-- ID: integer (nullable = true)\n",
      " |-- CODE_GENDER: string (nullable = true)\n",
      " |-- FLAG_OWN_CAR: string (nullable = true)\n",
      " |-- FLAG_OWN_REALTY: string (nullable = true)\n",
      " |-- CNT_CHILDREN: integer (nullable = true)\n",
      " |-- AMT_INCOME_TOTAL: double (nullable = true)\n",
      " |-- NAME_INCOME_TYPE: string (nullable = true)\n",
      " |-- NAME_EDUCATION_TYPE: string (nullable = true)\n",
      " |-- NAME_FAMILY_STATUS: string (nullable = true)\n",
      " |-- NAME_HOUSING_TYPE: string (nullable = true)\n",
      " |-- DAYS_BIRTH: integer (nullable = true)\n",
      " |-- DAYS_EMPLOYED: integer (nullable = true)\n",
      " |-- FLAG_MOBIL: integer (nullable = true)\n",
      " |-- FLAG_WORK_PHONE: integer (nullable = true)\n",
      " |-- FLAG_PHONE: integer (nullable = true)\n",
      " |-- FLAG_EMAIL: integer (nullable = true)\n",
      " |-- OCCUPATION_TYPE: string (nullable = true)\n",
      " |-- CNT_FAM_MEMBERS: double (nullable = true)\n",
      "\n"
     ]
    },
    {
     "name": "stderr",
     "output_type": "stream",
     "text": [
      "24/05/22 11:25:29 WARN GarbageCollectionMetrics: To enable non-built-in garbage collector(s) List(G1 Concurrent GC), users should configure it(them) to spark.eventLog.gcMetrics.youngGenerationGarbageCollectors or spark.eventLog.gcMetrics.oldGenerationGarbageCollectors\n"
     ]
    }
   ],
   "source": [
    "df_application = spark.read.format('csv').options(header=True,inferSchema=True).load('application_record.csv')\n",
    "df_application.show(30, truncate=50)\n",
    "df_application.printSchema()"
   ]
  },
  {
   "cell_type": "code",
   "execution_count": 4,
   "metadata": {},
   "outputs": [
    {
     "name": "stderr",
     "output_type": "stream",
     "text": [
      "[Stage 3:>                                                          (0 + 1) / 1]\r"
     ]
    },
    {
     "name": "stdout",
     "output_type": "stream",
     "text": [
      "+---+-----------+------------+---------------+------------+----------------+----------------+-------------------+------------------+-----------------+----------+-------------+----------+---------------+----------+----------+---------------+---------------+\n",
      "| ID|CODE_GENDER|FLAG_OWN_CAR|FLAG_OWN_REALTY|CNT_CHILDREN|AMT_INCOME_TOTAL|NAME_INCOME_TYPE|NAME_EDUCATION_TYPE|NAME_FAMILY_STATUS|NAME_HOUSING_TYPE|DAYS_BIRTH|DAYS_EMPLOYED|FLAG_MOBIL|FLAG_WORK_PHONE|FLAG_PHONE|FLAG_EMAIL|OCCUPATION_TYPE|CNT_FAM_MEMBERS|\n",
      "+---+-----------+------------+---------------+------------+----------------+----------------+-------------------+------------------+-----------------+----------+-------------+----------+---------------+----------+----------+---------------+---------------+\n",
      "|  0|          0|           0|              0|           0|               0|               0|                  0|                 0|                0|         0|            0|         0|              0|         0|         0|         134203|              0|\n",
      "+---+-----------+------------+---------------+------------+----------------+----------------+-------------------+------------------+-----------------+----------+-------------+----------+---------------+----------+----------+---------------+---------------+\n",
      "\n"
     ]
    },
    {
     "name": "stderr",
     "output_type": "stream",
     "text": [
      "                                                                                \r"
     ]
    }
   ],
   "source": [
    "# Check for null etc.\n",
    "df_application.select([count((when(isnan(c) | isnull(c), 1))).alias(c) for c in df_application.columns]).show()\n",
    "# No null in data so all data is valid"
   ]
  },
  {
   "cell_type": "code",
   "execution_count": 5,
   "metadata": {},
   "outputs": [
    {
     "name": "stdout",
     "output_type": "stream",
     "text": [
      "+-----------+\n",
      "|code_gender|\n",
      "+-----------+\n",
      "|          F|\n",
      "|          M|\n",
      "+-----------+\n",
      "\n",
      "+------------+\n",
      "|flag_own_car|\n",
      "+------------+\n",
      "|           Y|\n",
      "|           N|\n",
      "+------------+\n",
      "\n",
      "+---------------+\n",
      "|flag_own_realty|\n",
      "+---------------+\n",
      "|              Y|\n",
      "|              N|\n",
      "+---------------+\n",
      "\n",
      "+----------+\n",
      "|flag_mobil|\n",
      "+----------+\n",
      "|         1|\n",
      "+----------+\n",
      "\n",
      "+---------------+\n",
      "|flag_work_phone|\n",
      "+---------------+\n",
      "|              1|\n",
      "|              0|\n",
      "+---------------+\n",
      "\n",
      "+----------+\n",
      "|flag_email|\n",
      "+----------+\n",
      "|         1|\n",
      "|         0|\n",
      "+----------+\n",
      "\n",
      "+----------+\n",
      "|flag_phone|\n",
      "+----------+\n",
      "|         1|\n",
      "|         0|\n",
      "+----------+\n",
      "\n"
     ]
    }
   ],
   "source": [
    "# First Check the data in code_gender to check if there is any misdata\n",
    "# Select and show distinct values for each column separately\n",
    "df_application.select('code_gender').distinct().show()\n",
    "df_application.select('flag_own_car').distinct().show()\n",
    "df_application.select('flag_own_realty').distinct().show()\n",
    "df_application.select('flag_mobil').distinct().show()\n",
    "df_application.select('flag_work_phone').distinct().show()\n",
    "df_application.select('flag_email').distinct().show()\n",
    "df_application.select('flag_phone').distinct().show()"
   ]
  },
  {
   "cell_type": "code",
   "execution_count": 6,
   "metadata": {},
   "outputs": [
    {
     "name": "stdout",
     "output_type": "stream",
     "text": [
      "+-------+-----------+------------+---------------+------------+----------------+--------------------+--------------------+--------------------+-----------------+----------+-------------+---------------+----------+----------+---------------+---------------+\n",
      "|     id|code_gender|flag_own_car|flag_own_realty|cnt_children|amt_income_total|    name_income_type| name_education_type|  name_family_status|name_housing_type|days_birth|days_employed|flag_work_phone|flag_phone|flag_email|occupation_type|cnt_fam_members|\n",
      "+-------+-----------+------------+---------------+------------+----------------+--------------------+--------------------+--------------------+-----------------+----------+-------------+---------------+----------+----------+---------------+---------------+\n",
      "|5008804|          0|           1|              0|           0|        427500.0|             Working|    Higher education|      Civil marriage| Rented apartment|    -12005|        -4542|              1|         0|         0|           NULL|              2|\n",
      "|5008805|          0|           1|              0|           0|        427500.0|             Working|    Higher education|      Civil marriage| Rented apartment|    -12005|        -4542|              1|         0|         0|           NULL|              2|\n",
      "|5008806|          0|           1|              0|           0|        112500.0|             Working|Secondary / secon...|             Married|House / apartment|    -21474|        -1134|              0|         0|         0| Security staff|              2|\n",
      "|5008808|          1|           0|              0|           0|        270000.0|Commercial associate|Secondary / secon...|Single / not married|House / apartment|    -19110|        -3051|              0|         1|         1|    Sales staff|              1|\n",
      "|5008809|          1|           0|              0|           0|        270000.0|Commercial associate|Secondary / secon...|Single / not married|House / apartment|    -19110|        -3051|              0|         1|         1|    Sales staff|              1|\n",
      "|5008810|          1|           0|              0|           0|        270000.0|Commercial associate|Secondary / secon...|Single / not married|House / apartment|    -19110|        -3051|              0|         1|         1|    Sales staff|              1|\n",
      "|5008811|          1|           0|              0|           0|        270000.0|Commercial associate|Secondary / secon...|Single / not married|House / apartment|    -19110|        -3051|              0|         1|         1|    Sales staff|              1|\n",
      "|5008812|          1|           0|              0|           0|        283500.0|           Pensioner|    Higher education|           Separated|House / apartment|    -22464|       365243|              0|         0|         0|           NULL|              1|\n",
      "|5008813|          1|           0|              0|           0|        283500.0|           Pensioner|    Higher education|           Separated|House / apartment|    -22464|       365243|              0|         0|         0|           NULL|              1|\n",
      "|5008814|          1|           0|              0|           0|        283500.0|           Pensioner|    Higher education|           Separated|House / apartment|    -22464|       365243|              0|         0|         0|           NULL|              1|\n",
      "|5008815|          0|           1|              0|           0|        270000.0|             Working|    Higher education|             Married|House / apartment|    -16872|         -769|              1|         1|         1|    Accountants|              2|\n",
      "|5112956|          0|           1|              0|           0|        270000.0|             Working|    Higher education|             Married|House / apartment|    -16872|         -769|              1|         1|         1|    Accountants|              2|\n",
      "|6153651|          0|           1|              0|           0|        270000.0|             Working|    Higher education|             Married|House / apartment|    -16872|         -769|              1|         1|         1|    Accountants|              2|\n",
      "|5008819|          0|           1|              0|           0|        135000.0|Commercial associate|Secondary / secon...|             Married|House / apartment|    -17778|        -1194|              0|         0|         0|       Laborers|              2|\n",
      "|5008820|          0|           1|              0|           0|        135000.0|Commercial associate|Secondary / secon...|             Married|House / apartment|    -17778|        -1194|              0|         0|         0|       Laborers|              2|\n",
      "|5008821|          0|           1|              0|           0|        135000.0|Commercial associate|Secondary / secon...|             Married|House / apartment|    -17778|        -1194|              0|         0|         0|       Laborers|              2|\n",
      "|5008822|          0|           1|              0|           0|        135000.0|Commercial associate|Secondary / secon...|             Married|House / apartment|    -17778|        -1194|              0|         0|         0|       Laborers|              2|\n",
      "|5008823|          0|           1|              0|           0|        135000.0|Commercial associate|Secondary / secon...|             Married|House / apartment|    -17778|        -1194|              0|         0|         0|       Laborers|              2|\n",
      "|5008824|          0|           1|              0|           0|        135000.0|Commercial associate|Secondary / secon...|             Married|House / apartment|    -17778|        -1194|              0|         0|         0|       Laborers|              2|\n",
      "|5008825|          1|           1|              0|           0|        130500.0|             Working|   Incomplete higher|             Married|House / apartment|    -10669|        -1103|              0|         0|         0|    Accountants|              2|\n",
      "+-------+-----------+------------+---------------+------------+----------------+--------------------+--------------------+--------------------+-----------------+----------+-------------+---------------+----------+----------+---------------+---------------+\n",
      "only showing top 20 rows\n",
      "\n"
     ]
    }
   ],
   "source": [
    "# After checking the flag_mobil is not important because the data is only 1 and no other variation. so in the cleaned data not getting the flag mobil\n",
    "df_app_cleaned = df_application.select(['id','code_gender','flag_own_car','flag_own_realty','cnt_children','amt_income_total',\n",
    "                                        'name_income_type','name_education_type','name_family_status','name_housing_type','days_birth',\n",
    "                                        'days_employed','flag_work_phone','flag_phone','flag_email','occupation_type','cnt_fam_members'])\n",
    "\n",
    "# AND the value is always 0 an 1 as the boolean so we want to make our data uniform so changing the Y as 1 and N as 0, F as 1 and M as 0\n",
    "df_app_cleaned = df_app_cleaned.withColumn('code_gender', when(df_app_cleaned.code_gender == 'F',1).otherwise(0))\n",
    "df_app_cleaned = df_app_cleaned.withColumn('flag_own_car', when(df_app_cleaned.flag_own_car == 'Y',1).otherwise(0))\n",
    "df_app_cleaned = df_app_cleaned.withColumn('flag_own_realty', when(df_app_cleaned.flag_own_car == 'Y',1).otherwise(0))\n",
    "\n",
    "# More data cleaning cnt_fam_members should be integer because there shouldn't be fam members that is half or less than 1\n",
    "df_app_cleaned = df_app_cleaned.withColumn('cnt_fam_members', col('cnt_fam_members').cast('Integer'))\n",
    "\n",
    "df_app_cleaned.show()"
   ]
  },
  {
   "cell_type": "code",
   "execution_count": 7,
   "metadata": {},
   "outputs": [
    {
     "name": "stdout",
     "output_type": "stream",
     "text": [
      "+---+\n",
      "|age|\n",
      "+---+\n",
      "+---+\n",
      "\n",
      "+----------------+---------------+--------+\n",
      "|name_income_type|occupation_type|employed|\n",
      "+----------------+---------------+--------+\n",
      "|       Pensioner|           NULL|    -999|\n",
      "+----------------+---------------+--------+\n",
      "\n"
     ]
    }
   ],
   "source": [
    "# Changing the days birth into age Integer so that it will be classification into its correspondence age\n",
    "df_app_cleaned = df_app_cleaned.withColumn('age', floor(col('days_birth')/365.25) * -1)\n",
    "\n",
    "# Check value because age should not be negative or even > 100\n",
    "df_app_cleaned.select('age').where('age < 0 or age > 100').show()\n",
    "\n",
    "# Changing the days birth into age Integer so that it will be classification into its correspondence age\n",
    "df_app_cleaned = df_app_cleaned.withColumn('employed', floor(col('days_employed')/365.25) * -1)\n",
    "\n",
    "# Check value because age should not be negative or even > 100 as well as the occupation\n",
    "df_app_cleaned.select(['name_income_type','occupation_type','employed']).where('employed < 0 or employed > 100').distinct().show()"
   ]
  },
  {
   "cell_type": "code",
   "execution_count": 8,
   "metadata": {},
   "outputs": [
    {
     "name": "stdout",
     "output_type": "stream",
     "text": [
      "+-------+-----------+------------+---------------+------------+----------------+--------------------+--------------------+--------------------+-----------------+----------+-------------+---------------+----------+----------+---------------+---------------+---+--------+\n",
      "|     id|code_gender|flag_own_car|flag_own_realty|cnt_children|amt_income_total|    name_income_type| name_education_type|  name_family_status|name_housing_type|days_birth|days_employed|flag_work_phone|flag_phone|flag_email|occupation_type|cnt_fam_members|age|employed|\n",
      "+-------+-----------+------------+---------------+------------+----------------+--------------------+--------------------+--------------------+-----------------+----------+-------------+---------------+----------+----------+---------------+---------------+---+--------+\n",
      "|5008804|          0|           1|              0|           0|        427500.0|             Working|    Higher education|      Civil marriage| Rented apartment|    -12005|        -4542|              1|         0|         0|           NULL|              2| 33|      13|\n",
      "|5008805|          0|           1|              0|           0|        427500.0|             Working|    Higher education|      Civil marriage| Rented apartment|    -12005|        -4542|              1|         0|         0|           NULL|              2| 33|      13|\n",
      "|5008806|          0|           1|              0|           0|        112500.0|             Working|Secondary / secon...|             Married|House / apartment|    -21474|        -1134|              0|         0|         0| Security staff|              2| 59|       4|\n",
      "|5008808|          1|           0|              0|           0|        270000.0|Commercial associate|Secondary / secon...|Single / not married|House / apartment|    -19110|        -3051|              0|         1|         1|    Sales staff|              1| 53|       9|\n",
      "|5008809|          1|           0|              0|           0|        270000.0|Commercial associate|Secondary / secon...|Single / not married|House / apartment|    -19110|        -3051|              0|         1|         1|    Sales staff|              1| 53|       9|\n",
      "|5008810|          1|           0|              0|           0|        270000.0|Commercial associate|Secondary / secon...|Single / not married|House / apartment|    -19110|        -3051|              0|         1|         1|    Sales staff|              1| 53|       9|\n",
      "|5008811|          1|           0|              0|           0|        270000.0|Commercial associate|Secondary / secon...|Single / not married|House / apartment|    -19110|        -3051|              0|         1|         1|    Sales staff|              1| 53|       9|\n",
      "|5008812|          1|           0|              0|           0|        283500.0|           Pensioner|    Higher education|           Separated|House / apartment|    -22464|       365243|              0|         0|         0|           NULL|              1| 62|       0|\n",
      "|5008813|          1|           0|              0|           0|        283500.0|           Pensioner|    Higher education|           Separated|House / apartment|    -22464|       365243|              0|         0|         0|           NULL|              1| 62|       0|\n",
      "|5008814|          1|           0|              0|           0|        283500.0|           Pensioner|    Higher education|           Separated|House / apartment|    -22464|       365243|              0|         0|         0|           NULL|              1| 62|       0|\n",
      "|5008815|          0|           1|              0|           0|        270000.0|             Working|    Higher education|             Married|House / apartment|    -16872|         -769|              1|         1|         1|    Accountants|              2| 47|       3|\n",
      "|5112956|          0|           1|              0|           0|        270000.0|             Working|    Higher education|             Married|House / apartment|    -16872|         -769|              1|         1|         1|    Accountants|              2| 47|       3|\n",
      "|6153651|          0|           1|              0|           0|        270000.0|             Working|    Higher education|             Married|House / apartment|    -16872|         -769|              1|         1|         1|    Accountants|              2| 47|       3|\n",
      "|5008819|          0|           1|              0|           0|        135000.0|Commercial associate|Secondary / secon...|             Married|House / apartment|    -17778|        -1194|              0|         0|         0|       Laborers|              2| 49|       4|\n",
      "|5008820|          0|           1|              0|           0|        135000.0|Commercial associate|Secondary / secon...|             Married|House / apartment|    -17778|        -1194|              0|         0|         0|       Laborers|              2| 49|       4|\n",
      "|5008821|          0|           1|              0|           0|        135000.0|Commercial associate|Secondary / secon...|             Married|House / apartment|    -17778|        -1194|              0|         0|         0|       Laborers|              2| 49|       4|\n",
      "|5008822|          0|           1|              0|           0|        135000.0|Commercial associate|Secondary / secon...|             Married|House / apartment|    -17778|        -1194|              0|         0|         0|       Laborers|              2| 49|       4|\n",
      "|5008823|          0|           1|              0|           0|        135000.0|Commercial associate|Secondary / secon...|             Married|House / apartment|    -17778|        -1194|              0|         0|         0|       Laborers|              2| 49|       4|\n",
      "|5008824|          0|           1|              0|           0|        135000.0|Commercial associate|Secondary / secon...|             Married|House / apartment|    -17778|        -1194|              0|         0|         0|       Laborers|              2| 49|       4|\n",
      "|5008825|          1|           1|              0|           0|        130500.0|             Working|   Incomplete higher|             Married|House / apartment|    -10669|        -1103|              0|         0|         0|    Accountants|              2| 30|       4|\n",
      "+-------+-----------+------------+---------------+------------+----------------+--------------------+--------------------+--------------------+-----------------+----------+-------------+---------------+----------+----------+---------------+---------------+---+--------+\n",
      "only showing top 20 rows\n",
      "\n"
     ]
    }
   ],
   "source": [
    "# because the data is said pensioner than it is possible that the employed is negative but for calculation sake it is better to make it into 0\n",
    "df_app_cleaned = df_app_cleaned.withColumn('employed', when(df_app_cleaned.employed < 0,0).otherwise(df_app_cleaned.employed))\n",
    "\n",
    "df_app_cleaned.show()"
   ]
  },
  {
   "cell_type": "code",
   "execution_count": 9,
   "metadata": {},
   "outputs": [
    {
     "data": {
      "text/plain": [
       "134203"
      ]
     },
     "execution_count": 9,
     "metadata": {},
     "output_type": "execute_result"
    }
   ],
   "source": [
    "# there is occupation type that is null so we need to fill it up\n",
    "df_app_cleaned.select('occupation_type').where(isnull(col('occupation_type'))).count() \n",
    "# There are no possibility to"
   ]
  },
  {
   "cell_type": "code",
   "execution_count": 10,
   "metadata": {},
   "outputs": [
    {
     "name": "stdout",
     "output_type": "stream",
     "text": [
      "+----------------+----------------+---------------+--------+\n",
      "|amt_income_total|name_income_type|occupation_type|employed|\n",
      "+----------------+----------------+---------------+--------+\n",
      "|        427500.0|         Working|           NULL|      13|\n",
      "|        427500.0|         Working|           NULL|      13|\n",
      "|        283500.0|       Pensioner|           NULL|       0|\n",
      "|        283500.0|       Pensioner|           NULL|       0|\n",
      "|        283500.0|       Pensioner|           NULL|       0|\n",
      "|        112500.0|         Working|           NULL|       5|\n",
      "|        112500.0|         Working|           NULL|       5|\n",
      "|        112500.0|         Working|           NULL|       5|\n",
      "|        315000.0|       Pensioner|           NULL|       0|\n",
      "|        225000.0|         Working|           NULL|       8|\n",
      "|        225000.0|         Working|           NULL|       8|\n",
      "|        225000.0|         Working|           NULL|       8|\n",
      "|        225000.0|         Working|           NULL|       8|\n",
      "|        157500.0|         Working|           NULL|       3|\n",
      "|        157500.0|         Working|           NULL|       3|\n",
      "|        157500.0|         Working|           NULL|       3|\n",
      "|        157500.0|         Working|           NULL|       3|\n",
      "|        112500.0|       Pensioner|           NULL|       0|\n",
      "|        112500.0|       Pensioner|           NULL|       0|\n",
      "|        112500.0|       Pensioner|           NULL|       0|\n",
      "+----------------+----------------+---------------+--------+\n",
      "only showing top 20 rows\n",
      "\n"
     ]
    }
   ],
   "source": [
    "# check for occupation type that is null\n",
    "df_app_cleaned.select(['amt_income_total','name_income_type','occupation_type','employed']).where(isnull(df_app_cleaned.occupation_type)).show()\n",
    "# there is possibility to use the amt_income_total & name_income_type to classified the occupation_type typically will have the same job\n",
    "# so need to find the exact number to it"
   ]
  },
  {
   "cell_type": "code",
   "execution_count": 11,
   "metadata": {},
   "outputs": [
    {
     "name": "stdout",
     "output_type": "stream",
     "text": [
      "+----------------+----------------+---------------+--------+\n",
      "|amt_income_total|name_income_type|occupation_type|employed|\n",
      "+----------------+----------------+---------------+--------+\n",
      "|        225000.0|         Working|           NULL|       8|\n",
      "|        225000.0|         Working|           NULL|       8|\n",
      "|        225000.0|         Working|           NULL|       8|\n",
      "|        225000.0|         Working|           NULL|       8|\n",
      "|        225000.0|         Working|       Managers|       3|\n",
      "|        225000.0|         Working|       Managers|       3|\n",
      "|        225000.0|         Working|       Managers|       3|\n",
      "|        225000.0|         Working|       Managers|       3|\n",
      "|        225000.0|         Working|       Managers|       3|\n",
      "|        225000.0|         Working|       Managers|       3|\n",
      "|        225000.0|         Working|       Managers|       3|\n",
      "|        225000.0|         Working|       Managers|       3|\n",
      "|        225000.0|         Working|       Managers|       3|\n",
      "|        225000.0|         Working|       Managers|       3|\n",
      "|        225000.0|         Working|       Managers|       3|\n",
      "|        225000.0|         Working|       Managers|       3|\n",
      "|        225000.0|         Working|       Managers|       3|\n",
      "|        225000.0|         Working|       Managers|       3|\n",
      "|        225000.0|         Working|     Core staff|       5|\n",
      "|        225000.0|         Working|     Core staff|       5|\n",
      "+----------------+----------------+---------------+--------+\n",
      "only showing top 20 rows\n",
      "\n"
     ]
    }
   ],
   "source": [
    "# use amt_income total to get the kind of occupation type check first\n",
    "# the possibility is that the amt_income_total,name_income_type, and employed can fill the occupation_type that is null\n",
    "df_app_cleaned.select(['amt_income_total','name_income_type','occupation_type','employed']).where((df_app_cleaned.amt_income_total == 225000.0) & (df_app_cleaned.name_income_type == 'Working')).show()\n",
    "# This data further proven the point that it will be able to be filled up"
   ]
  },
  {
   "cell_type": "code",
   "execution_count": 12,
   "metadata": {},
   "outputs": [
    {
     "name": "stdout",
     "output_type": "stream",
     "text": [
      "+-------+-----------+------------+---------------+------------+----------------+----------------+--------------------+--------------------+-----------------+----------+-------------+---------------+----------+----------+---------------+---------------+---+--------+\n",
      "|     id|code_gender|flag_own_car|flag_own_realty|cnt_children|amt_income_total|name_income_type| name_education_type|  name_family_status|name_housing_type|days_birth|days_employed|flag_work_phone|flag_phone|flag_email|occupation_type|cnt_fam_members|age|employed|\n",
      "+-------+-----------+------------+---------------+------------+----------------+----------------+--------------------+--------------------+-----------------+----------+-------------+---------------+----------+----------+---------------+---------------+---+--------+\n",
      "|6093713|          1|           0|              0|           0|         26100.0|       Pensioner|Secondary / secon...|             Married|House / apartment|    -21003|       365243|              0|         0|         0|           NULL|              2| 58|       0|\n",
      "|6093712|          1|           0|              0|           0|         26100.0|       Pensioner|Secondary / secon...|             Married|House / apartment|    -21003|       365243|              0|         0|         0|           NULL|              2| 58|       0|\n",
      "|5213635|          1|           0|              0|           0|         27000.0|       Pensioner|Secondary / secon...|               Widow|House / apartment|    -20935|       365243|              0|         0|         0|           NULL|              1| 58|       0|\n",
      "|5213636|          1|           0|              0|           0|         27000.0|       Pensioner|Secondary / secon...|               Widow|House / apartment|    -20935|       365243|              0|         0|         0|           NULL|              1| 58|       0|\n",
      "|5369432|          1|           0|              0|           0|         27000.0|       Pensioner|Secondary / secon...|             Married|House / apartment|    -20794|       365243|              0|         0|         0|           NULL|              2| 57|       0|\n",
      "|5369433|          1|           0|              0|           0|         27000.0|       Pensioner|Secondary / secon...|             Married|House / apartment|    -20794|       365243|              0|         0|         0|           NULL|              2| 57|       0|\n",
      "|5369434|          1|           0|              0|           0|         27000.0|       Pensioner|Secondary / secon...|             Married|House / apartment|    -20794|       365243|              0|         0|         0|           NULL|              2| 57|       0|\n",
      "|5369435|          1|           0|              0|           0|         27000.0|       Pensioner|Secondary / secon...|             Married|House / apartment|    -20794|       365243|              0|         0|         0|           NULL|              2| 57|       0|\n",
      "|5565440|          0|           0|              0|           0|         27000.0|       Pensioner|Secondary / secon...|Single / not married|House / apartment|    -21236|       365243|              0|         1|         0|           NULL|              1| 59|       0|\n",
      "|5890283|          1|           0|              0|           0|         27000.0|       Pensioner|Secondary / secon...|             Married|House / apartment|    -21033|       365243|              0|         0|         0|           NULL|              2| 58|       0|\n",
      "|5890285|          1|           0|              0|           0|         27000.0|       Pensioner|Secondary / secon...|             Married|House / apartment|    -21033|       365243|              0|         0|         0|           NULL|              2| 58|       0|\n",
      "|5890287|          1|           0|              0|           0|         27000.0|       Pensioner|Secondary / secon...|             Married|House / apartment|    -21033|       365243|              0|         0|         0|           NULL|              2| 58|       0|\n",
      "|7565440|          0|           0|              0|           0|         27000.0|       Pensioner|Secondary / secon...|Single / not married|House / apartment|    -21236|       365243|              0|         1|         0|           NULL|              1| 59|       0|\n",
      "|5518822|          1|           0|              0|           1|         27000.0|   State servant|Secondary / secon...|             Married|House / apartment|    -10154|         -820|              0|         0|         0|     Core staff|              3| 28|       3|\n",
      "|5518823|          1|           0|              0|           1|         27000.0|   State servant|Secondary / secon...|             Married|House / apartment|    -10154|         -820|              0|         0|         0|     Core staff|              3| 28|       3|\n",
      "|6231976|          1|           0|              0|           0|         27000.0|   State servant|Secondary / secon...|             Married|     With parents|    -18707|         -161|              0|         0|         0|       Laborers|              2| 52|       1|\n",
      "|6231977|          1|           0|              0|           0|         27000.0|   State servant|Secondary / secon...|             Married|     With parents|    -18707|         -161|              0|         0|         0|       Laborers|              2| 52|       1|\n",
      "|5126174|          1|           0|              0|           0|         27000.0|         Working|    Higher education|      Civil marriage|House / apartment|    -14869|        -5067|              1|         0|         0|       Managers|              2| 41|      14|\n",
      "|5126175|          1|           0|              0|           0|         27000.0|         Working|    Higher education|      Civil marriage|House / apartment|    -14869|        -5067|              1|         0|         0|       Managers|              2| 41|      14|\n",
      "|5995345|          1|           0|              0|           0|         27000.0|         Working|    Higher education|      Civil marriage|House / apartment|    -14869|        -5067|              1|         0|         0|       Managers|              2| 41|      14|\n",
      "+-------+-----------+------------+---------------+------------+----------------+----------------+--------------------+--------------------+-----------------+----------+-------------+---------------+----------+----------+---------------+---------------+---+--------+\n",
      "only showing top 20 rows\n",
      "\n"
     ]
    }
   ],
   "source": [
    "# so use the possibility of it and fill the occupation_type that got from the amt_income_total and name_income_type\n",
    "from pyspark.sql import Window, functions as F\n",
    "\n",
    "# Define a window specification\n",
    "window_spec = Window.partitionBy('amt_income_total', 'name_income_type')\n",
    "\n",
    "# Fill missing values of occupation_type with the most frequent value within each group\n",
    "filled_occupation_type = F.first('occupation_type', ignorenulls=True).over(window_spec)\n",
    "\n",
    "# Fill missing values using coalesce\n",
    "df_app_cleaned = df_app_cleaned.withColumn('filled_occupation_type', filled_occupation_type)\n",
    "df_app_cleaned = df_app_cleaned.withColumn('occupation_type', F.coalesce('occupation_type', 'filled_occupation_type')).drop('filled_occupation_type')\n",
    "\n",
    "df_app_cleaned.show()"
   ]
  },
  {
   "cell_type": "code",
   "execution_count": 13,
   "metadata": {},
   "outputs": [
    {
     "name": "stdout",
     "output_type": "stream",
     "text": [
      "+----------------+--------------------+---------------+--------+\n",
      "|amt_income_total|    name_income_type|occupation_type|employed|\n",
      "+----------------+--------------------+---------------+--------+\n",
      "|         32400.0|             Working|           NULL|       5|\n",
      "|         32400.0|             Working|           NULL|       5|\n",
      "|         32400.0|             Working|           NULL|       5|\n",
      "|         38250.0|       State servant|           NULL|       3|\n",
      "|         38250.0|       State servant|           NULL|       3|\n",
      "|         38250.0|       State servant|           NULL|       3|\n",
      "|         38250.0|       State servant|           NULL|       3|\n",
      "|         38250.0|       State servant|           NULL|       3|\n",
      "|         38250.0|       State servant|           NULL|       3|\n",
      "|         38250.0|       State servant|           NULL|       3|\n",
      "|         38700.0|             Working|           NULL|      26|\n",
      "|         41211.0|Commercial associate|           NULL|       6|\n",
      "|         41211.0|Commercial associate|           NULL|       6|\n",
      "|         41211.0|Commercial associate|           NULL|       6|\n",
      "|         41211.0|Commercial associate|           NULL|       6|\n",
      "|         41211.0|Commercial associate|           NULL|       6|\n",
      "|         41211.0|Commercial associate|           NULL|       6|\n",
      "|         41211.0|Commercial associate|           NULL|       6|\n",
      "|         41211.0|Commercial associate|           NULL|       6|\n",
      "|         52650.0|             Working|           NULL|       3|\n",
      "+----------------+--------------------+---------------+--------+\n",
      "only showing top 20 rows\n",
      "\n"
     ]
    },
    {
     "name": "stderr",
     "output_type": "stream",
     "text": [
      "[Stage 44:>                                                         (0 + 1) / 1]\r"
     ]
    },
    {
     "name": "stdout",
     "output_type": "stream",
     "text": [
      "+-------+-----------+------------+---------------+------------+----------------+--------------------+--------------------+------------------+-----------------+----------+-------------+---------------+----------+----------+---------------+---------------+---+--------+\n",
      "|     id|code_gender|flag_own_car|flag_own_realty|cnt_children|amt_income_total|    name_income_type| name_education_type|name_family_status|name_housing_type|days_birth|days_employed|flag_work_phone|flag_phone|flag_email|occupation_type|cnt_fam_members|age|employed|\n",
      "+-------+-----------+------------+---------------+------------+----------------+--------------------+--------------------+------------------+-----------------+----------+-------------+---------------+----------+----------+---------------+---------------+---+--------+\n",
      "|6014233|          1|           0|              0|           1|         28723.5|Commercial associate|Secondary / secon...|           Married|House / apartment|    -14361|         -138|              1|         0|         0| Cleaning staff|              3| 40|       1|\n",
      "|6463725|          1|           0|              0|           1|         28723.5|Commercial associate|Secondary / secon...|           Married|House / apartment|    -14361|         -138|              1|         0|         0| Cleaning staff|              3| 40|       1|\n",
      "|6463726|          1|           0|              0|           1|         28723.5|Commercial associate|Secondary / secon...|           Married|House / apartment|    -14361|         -138|              1|         0|         0| Cleaning staff|              3| 40|       1|\n",
      "|6463727|          1|           0|              0|           1|         28723.5|Commercial associate|Secondary / secon...|           Married|House / apartment|    -14361|         -138|              1|         0|         0| Cleaning staff|              3| 40|       1|\n",
      "|6463728|          1|           0|              0|           1|         28723.5|Commercial associate|Secondary / secon...|           Married|House / apartment|    -14361|         -138|              1|         0|         0| Cleaning staff|              3| 40|       1|\n",
      "|6463729|          1|           0|              0|           1|         28723.5|Commercial associate|Secondary / secon...|           Married|House / apartment|    -14361|         -138|              1|         0|         0| Cleaning staff|              3| 40|       1|\n",
      "|5088968|          1|           1|              0|           0|         31500.0|Commercial associate|Secondary / secon...|           Married|House / apartment|    -17762|        -7734|              1|         1|         0| Cleaning staff|              2| 49|      22|\n",
      "|5088969|          1|           1|              0|           0|         31500.0|Commercial associate|Secondary / secon...|           Married|House / apartment|    -17762|        -7734|              1|         1|         0| Cleaning staff|              2| 49|      22|\n",
      "|5088970|          1|           1|              0|           0|         31500.0|Commercial associate|Secondary / secon...|           Married|House / apartment|    -17762|        -7734|              1|         1|         0| Cleaning staff|              2| 49|      22|\n",
      "|5088971|          1|           1|              0|           0|         31500.0|Commercial associate|Secondary / secon...|           Married|House / apartment|    -17762|        -7734|              1|         1|         0| Cleaning staff|              2| 49|      22|\n",
      "|5088972|          1|           1|              0|           0|         31500.0|Commercial associate|Secondary / secon...|           Married|House / apartment|    -17762|        -7734|              1|         1|         0| Cleaning staff|              2| 49|      22|\n",
      "|5088974|          1|           1|              0|           0|         31500.0|Commercial associate|Secondary / secon...|           Married|House / apartment|    -17762|        -7734|              1|         1|         0| Cleaning staff|              2| 49|      22|\n",
      "|5088975|          1|           1|              0|           0|         31500.0|Commercial associate|Secondary / secon...|           Married|House / apartment|    -17762|        -7734|              1|         1|         0| Cleaning staff|              2| 49|      22|\n",
      "|5088976|          1|           1|              0|           0|         31500.0|Commercial associate|Secondary / secon...|           Married|House / apartment|    -17762|        -7734|              1|         1|         0| Cleaning staff|              2| 49|      22|\n",
      "|5602956|          1|           0|              0|           1|         36000.0|Commercial associate|Secondary / secon...|    Civil marriage|House / apartment|    -14225|        -4059|              1|         0|         0|    Sales staff|              3| 39|      12|\n",
      "|5602957|          1|           0|              0|           1|         36000.0|Commercial associate|Secondary / secon...|    Civil marriage|House / apartment|    -14225|        -4059|              1|         0|         0|    Sales staff|              3| 39|      12|\n",
      "|5602958|          1|           0|              0|           1|         36000.0|Commercial associate|Secondary / secon...|    Civil marriage|House / apartment|    -14225|        -4059|              1|         0|         0|    Sales staff|              3| 39|      12|\n",
      "|5602959|          1|           0|              0|           1|         36000.0|Commercial associate|Secondary / secon...|    Civil marriage|House / apartment|    -14225|        -4059|              1|         0|         0|    Sales staff|              3| 39|      12|\n",
      "|6026865|          1|           0|              0|           1|         36000.0|Commercial associate|Secondary / secon...|    Civil marriage|House / apartment|    -14225|        -4059|              1|         0|         0|    Sales staff|              3| 39|      12|\n",
      "|6026866|          1|           0|              0|           1|         36000.0|Commercial associate|Secondary / secon...|    Civil marriage|House / apartment|    -14225|        -4059|              1|         0|         0|    Sales staff|              3| 39|      12|\n",
      "+-------+-----------+------------+---------------+------------+----------------+--------------------+--------------------+------------------+-----------------+----------+-------------+---------------+----------+----------+---------------+---------------+---+--------+\n",
      "only showing top 20 rows\n",
      "\n"
     ]
    },
    {
     "name": "stderr",
     "output_type": "stream",
     "text": [
      "                                                                                \r"
     ]
    }
   ],
   "source": [
    "# check for occupation type that is null  and that the amt_income_total and name_income_type same, but still null\n",
    "df_app_cleaned.select(['amt_income_total','name_income_type','occupation_type','employed']).where(isnull(df_app_cleaned.occupation_type) & (df_app_cleaned.employed != 0)).show()\n",
    "# There are no exact data to fill the null in that missing value, so the possibility is the same name_income_type with the nearest amt_income_total\n",
    "# Create a window specification to partition by 'name_income_type' and order by the absolute difference in 'amt_income_total'\n",
    "window_spec = Window.partitionBy('name_income_type').orderBy(F.abs(F.col('amt_income_total') - F.col('amt_income_total_with_null')))\n",
    "\n",
    "# Create a temporary column to store the amt_income_total of rows with null occupation_type\n",
    "df_temp = df_app_cleaned.withColumn('amt_income_total_with_null', F.when(F.col('occupation_type').isNull(), F.col('amt_income_total')))\n",
    "\n",
    "# Fill missing occupation_type using the nearest amt_income_total\n",
    "filled_occupation_type = F.first('occupation_type', ignorenulls=True).over(window_spec)\n",
    "df_temp = df_temp.withColumn('filled_occupation_type', filled_occupation_type)\n",
    "\n",
    "# Use coalesce to fill the null values\n",
    "df_app_cleaned = df_temp.withColumn('occupation_type', F.coalesce(F.col('occupation_type'), F.col('filled_occupation_type'))).drop('filled_occupation_type', 'amt_income_total_with_null')\n",
    "\n",
    "df_app_cleaned.show()"
   ]
  },
  {
   "cell_type": "code",
   "execution_count": 14,
   "metadata": {},
   "outputs": [
    {
     "name": "stdout",
     "output_type": "stream",
     "text": [
      "+----------------+----------------+---------------+--------+\n",
      "|amt_income_total|name_income_type|occupation_type|employed|\n",
      "+----------------+----------------+---------------+--------+\n",
      "+----------------+----------------+---------------+--------+\n",
      "\n"
     ]
    }
   ],
   "source": [
    "# check for occupation type that is null\n",
    "df_app_cleaned.select(['amt_income_total','name_income_type','occupation_type','employed']).where(isnull(df_app_cleaned.occupation_type)).show()\n",
    "# Data already cleaned!!"
   ]
  },
  {
   "cell_type": "code",
   "execution_count": 25,
   "metadata": {},
   "outputs": [
    {
     "name": "stdout",
     "output_type": "stream",
     "text": [
      "+-------+--------------+------+\n",
      "|     ID|MONTHS_BALANCE|STATUS|\n",
      "+-------+--------------+------+\n",
      "|5001711|             0|     X|\n",
      "|5001711|            -1|     0|\n",
      "|5001711|            -2|     0|\n",
      "|5001711|            -3|     0|\n",
      "|5001712|             0|     C|\n",
      "|5001712|            -1|     C|\n",
      "|5001712|            -2|     C|\n",
      "|5001712|            -3|     C|\n",
      "|5001712|            -4|     C|\n",
      "|5001712|            -5|     C|\n",
      "|5001712|            -6|     C|\n",
      "|5001712|            -7|     C|\n",
      "|5001712|            -8|     C|\n",
      "|5001712|            -9|     0|\n",
      "|5001712|           -10|     0|\n",
      "|5001712|           -11|     0|\n",
      "|5001712|           -12|     0|\n",
      "|5001712|           -13|     0|\n",
      "|5001712|           -14|     0|\n",
      "|5001712|           -15|     0|\n",
      "|5001712|           -16|     0|\n",
      "|5001712|           -17|     0|\n",
      "|5001712|           -18|     0|\n",
      "|5001713|             0|     X|\n",
      "|5001713|            -1|     X|\n",
      "|5001713|            -2|     X|\n",
      "|5001713|            -3|     X|\n",
      "|5001713|            -4|     X|\n",
      "|5001713|            -5|     X|\n",
      "|5001713|            -6|     X|\n",
      "+-------+--------------+------+\n",
      "only showing top 30 rows\n",
      "\n",
      "root\n",
      " |-- ID: integer (nullable = true)\n",
      " |-- MONTHS_BALANCE: integer (nullable = true)\n",
      " |-- STATUS: string (nullable = true)\n",
      "\n",
      "Status \n",
      "      0 => 1-29 days past due \n",
      "      1 => 30-59 days past due \n",
      "      2 => 60-89 days past due \n",
      "      3 => 90-119 days past due \n",
      "      4 => 120-149 days past due \n",
      "      5 => overdue/ bad debts > 150 days \n",
      "      C => paid successfully \n",
      "      X => No loan \n",
      "\n"
     ]
    }
   ],
   "source": [
    "df_credit = spark.read.format('csv').options(header=True,inferSchema=True).load('credit_record.csv')\n",
    "df_credit.show(30, truncate=50)\n",
    "df_credit.printSchema()\n",
    "print('Status \\n\\\n",
    "      0 => 1-29 days past due \\n\\\n",
    "      1 => 30-59 days past due \\n\\\n",
    "      2 => 60-89 days past due \\n\\\n",
    "      3 => 90-119 days past due \\n\\\n",
    "      4 => 120-149 days past due \\n\\\n",
    "      5 => overdue/ bad debts > 150 days \\n\\\n",
    "      C => paid successfully \\n\\\n",
    "      X => No loan \\n\\\n",
    "')"
   ]
  },
  {
   "cell_type": "code",
   "execution_count": 26,
   "metadata": {},
   "outputs": [
    {
     "name": "stderr",
     "output_type": "stream",
     "text": [
      "[Stage 84:>                                                         (0 + 1) / 1]\r"
     ]
    },
    {
     "name": "stdout",
     "output_type": "stream",
     "text": [
      "+---+--------------+------+\n",
      "| ID|MONTHS_BALANCE|STATUS|\n",
      "+---+--------------+------+\n",
      "|  0|             0|     0|\n",
      "+---+--------------+------+\n",
      "\n"
     ]
    },
    {
     "name": "stderr",
     "output_type": "stream",
     "text": [
      "                                                                                \r"
     ]
    }
   ],
   "source": [
    "# Check for null etc.\n",
    "df_credit.select([count((when(isnan(c) | isnull(c), 1))).alias(c) for c in df_credit.columns]).show()\n",
    "# No null in data so all data is valid"
   ]
  },
  {
   "cell_type": "code",
   "execution_count": null,
   "metadata": {},
   "outputs": [],
   "source": []
  }
 ],
 "metadata": {
  "kernelspec": {
   "display_name": "Python 3 (ipykernel)",
   "language": "python",
   "name": "python3"
  },
  "language_info": {
   "codemirror_mode": {
    "name": "ipython",
    "version": 3
   },
   "file_extension": ".py",
   "mimetype": "text/x-python",
   "name": "python",
   "nbconvert_exporter": "python",
   "pygments_lexer": "ipython3",
   "version": "3.11.8"
  }
 },
 "nbformat": 4,
 "nbformat_minor": 4
}
