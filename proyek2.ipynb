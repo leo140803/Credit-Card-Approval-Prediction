{
 "cells": [
  {
   "cell_type": "code",
   "execution_count": 1,
   "id": "57778a44-2e1c-48b2-a51d-b3fcfbc66b9e",
   "metadata": {
    "tags": []
   },
   "outputs": [],
   "source": [
    "from pyspark import SparkContext, SparkConf\n",
    "from pyspark.sql import SparkSession\n",
    "conf = SparkConf().setAppName('myApp') \\\n",
    ".setMaster('local')\n",
    "sc = SparkContext(conf=conf)\n",
    "spark = SparkSession(sc)"
   ]
  },
  {
   "cell_type": "code",
   "execution_count": 2,
   "id": "7f7cb28d-c18f-4fe9-8e40-dad551c8e606",
   "metadata": {
    "tags": []
   },
   "outputs": [],
   "source": [
    "from pyspark.sql.functions import *\n",
    "import pandas as pd\n",
    "import math"
   ]
  },
  {
   "cell_type": "code",
   "execution_count": 3,
   "id": "03e903fe-1284-4a11-bb57-6313cbfc0eeb",
   "metadata": {
    "tags": []
   },
   "outputs": [
    {
     "name": "stdout",
     "output_type": "stream",
     "text": [
      "+-------+-----------+------------+---------------+------------+----------------+--------------------+-----------------------------+--------------------+-----------------+----------+-------------+----------+---------------+----------+----------+---------------+---------------+\n",
      "|     ID|CODE_GENDER|FLAG_OWN_CAR|FLAG_OWN_REALTY|CNT_CHILDREN|AMT_INCOME_TOTAL|    NAME_INCOME_TYPE|          NAME_EDUCATION_TYPE|  NAME_FAMILY_STATUS|NAME_HOUSING_TYPE|DAYS_BIRTH|DAYS_EMPLOYED|FLAG_MOBIL|FLAG_WORK_PHONE|FLAG_PHONE|FLAG_EMAIL|OCCUPATION_TYPE|CNT_FAM_MEMBERS|\n",
      "+-------+-----------+------------+---------------+------------+----------------+--------------------+-----------------------------+--------------------+-----------------+----------+-------------+----------+---------------+----------+----------+---------------+---------------+\n",
      "|5008804|          M|           Y|              Y|           0|        427500.0|             Working|             Higher education|      Civil marriage| Rented apartment|    -12005|        -4542|         1|              1|         0|         0|           NULL|            2.0|\n",
      "|5008805|          M|           Y|              Y|           0|        427500.0|             Working|             Higher education|      Civil marriage| Rented apartment|    -12005|        -4542|         1|              1|         0|         0|           NULL|            2.0|\n",
      "|5008806|          M|           Y|              Y|           0|        112500.0|             Working|Secondary / secondary special|             Married|House / apartment|    -21474|        -1134|         1|              0|         0|         0| Security staff|            2.0|\n",
      "|5008808|          F|           N|              Y|           0|        270000.0|Commercial associate|Secondary / secondary special|Single / not married|House / apartment|    -19110|        -3051|         1|              0|         1|         1|    Sales staff|            1.0|\n",
      "|5008809|          F|           N|              Y|           0|        270000.0|Commercial associate|Secondary / secondary special|Single / not married|House / apartment|    -19110|        -3051|         1|              0|         1|         1|    Sales staff|            1.0|\n",
      "|5008810|          F|           N|              Y|           0|        270000.0|Commercial associate|Secondary / secondary special|Single / not married|House / apartment|    -19110|        -3051|         1|              0|         1|         1|    Sales staff|            1.0|\n",
      "|5008811|          F|           N|              Y|           0|        270000.0|Commercial associate|Secondary / secondary special|Single / not married|House / apartment|    -19110|        -3051|         1|              0|         1|         1|    Sales staff|            1.0|\n",
      "|5008812|          F|           N|              Y|           0|        283500.0|           Pensioner|             Higher education|           Separated|House / apartment|    -22464|       365243|         1|              0|         0|         0|           NULL|            1.0|\n",
      "|5008813|          F|           N|              Y|           0|        283500.0|           Pensioner|             Higher education|           Separated|House / apartment|    -22464|       365243|         1|              0|         0|         0|           NULL|            1.0|\n",
      "|5008814|          F|           N|              Y|           0|        283500.0|           Pensioner|             Higher education|           Separated|House / apartment|    -22464|       365243|         1|              0|         0|         0|           NULL|            1.0|\n",
      "|5008815|          M|           Y|              Y|           0|        270000.0|             Working|             Higher education|             Married|House / apartment|    -16872|         -769|         1|              1|         1|         1|    Accountants|            2.0|\n",
      "|5112956|          M|           Y|              Y|           0|        270000.0|             Working|             Higher education|             Married|House / apartment|    -16872|         -769|         1|              1|         1|         1|    Accountants|            2.0|\n",
      "|6153651|          M|           Y|              Y|           0|        270000.0|             Working|             Higher education|             Married|House / apartment|    -16872|         -769|         1|              1|         1|         1|    Accountants|            2.0|\n",
      "|5008819|          M|           Y|              Y|           0|        135000.0|Commercial associate|Secondary / secondary special|             Married|House / apartment|    -17778|        -1194|         1|              0|         0|         0|       Laborers|            2.0|\n",
      "|5008820|          M|           Y|              Y|           0|        135000.0|Commercial associate|Secondary / secondary special|             Married|House / apartment|    -17778|        -1194|         1|              0|         0|         0|       Laborers|            2.0|\n",
      "|5008821|          M|           Y|              Y|           0|        135000.0|Commercial associate|Secondary / secondary special|             Married|House / apartment|    -17778|        -1194|         1|              0|         0|         0|       Laborers|            2.0|\n",
      "|5008822|          M|           Y|              Y|           0|        135000.0|Commercial associate|Secondary / secondary special|             Married|House / apartment|    -17778|        -1194|         1|              0|         0|         0|       Laborers|            2.0|\n",
      "|5008823|          M|           Y|              Y|           0|        135000.0|Commercial associate|Secondary / secondary special|             Married|House / apartment|    -17778|        -1194|         1|              0|         0|         0|       Laborers|            2.0|\n",
      "|5008824|          M|           Y|              Y|           0|        135000.0|Commercial associate|Secondary / secondary special|             Married|House / apartment|    -17778|        -1194|         1|              0|         0|         0|       Laborers|            2.0|\n",
      "|5008825|          F|           Y|              N|           0|        130500.0|             Working|            Incomplete higher|             Married|House / apartment|    -10669|        -1103|         1|              0|         0|         0|    Accountants|            2.0|\n",
      "|5008826|          F|           Y|              N|           0|        130500.0|             Working|            Incomplete higher|             Married|House / apartment|    -10669|        -1103|         1|              0|         0|         0|    Accountants|            2.0|\n",
      "|5008830|          F|           N|              Y|           0|        157500.0|             Working|Secondary / secondary special|             Married|House / apartment|    -10031|        -1469|         1|              0|         1|         0|       Laborers|            2.0|\n",
      "|5008831|          F|           N|              Y|           0|        157500.0|             Working|Secondary / secondary special|             Married|House / apartment|    -10031|        -1469|         1|              0|         1|         0|       Laborers|            2.0|\n",
      "|5008832|          F|           N|              Y|           0|        157500.0|             Working|Secondary / secondary special|             Married|House / apartment|    -10031|        -1469|         1|              0|         1|         0|       Laborers|            2.0|\n",
      "|5008834|          F|           N|              Y|           1|        112500.0|             Working|Secondary / secondary special|Single / not married|House / apartment|    -10968|        -1620|         1|              0|         0|         0|           NULL|            2.0|\n",
      "|5008835|          F|           N|              Y|           1|        112500.0|             Working|Secondary / secondary special|Single / not married|House / apartment|    -10968|        -1620|         1|              0|         0|         0|           NULL|            2.0|\n",
      "|6153712|          F|           N|              Y|           1|        112500.0|             Working|Secondary / secondary special|Single / not married|House / apartment|    -10968|        -1620|         1|              0|         0|         0|           NULL|            2.0|\n",
      "|5008836|          M|           Y|              Y|           3|        270000.0|             Working|Secondary / secondary special|             Married|House / apartment|    -12689|        -1163|         1|              0|         0|         0|       Laborers|            5.0|\n",
      "|5008837|          M|           Y|              Y|           3|        270000.0|             Working|Secondary / secondary special|             Married|House / apartment|    -12689|        -1163|         1|              0|         0|         0|       Laborers|            5.0|\n",
      "|5008838|          M|           N|              Y|           1|        405000.0|Commercial associate|             Higher education|             Married|House / apartment|    -11842|        -2016|         1|              0|         0|         0|       Managers|            3.0|\n",
      "+-------+-----------+------------+---------------+------------+----------------+--------------------+-----------------------------+--------------------+-----------------+----------+-------------+----------+---------------+----------+----------+---------------+---------------+\n",
      "only showing top 30 rows\n",
      "\n",
      "root\n",
      " |-- ID: integer (nullable = true)\n",
      " |-- CODE_GENDER: string (nullable = true)\n",
      " |-- FLAG_OWN_CAR: string (nullable = true)\n",
      " |-- FLAG_OWN_REALTY: string (nullable = true)\n",
      " |-- CNT_CHILDREN: integer (nullable = true)\n",
      " |-- AMT_INCOME_TOTAL: double (nullable = true)\n",
      " |-- NAME_INCOME_TYPE: string (nullable = true)\n",
      " |-- NAME_EDUCATION_TYPE: string (nullable = true)\n",
      " |-- NAME_FAMILY_STATUS: string (nullable = true)\n",
      " |-- NAME_HOUSING_TYPE: string (nullable = true)\n",
      " |-- DAYS_BIRTH: integer (nullable = true)\n",
      " |-- DAYS_EMPLOYED: integer (nullable = true)\n",
      " |-- FLAG_MOBIL: integer (nullable = true)\n",
      " |-- FLAG_WORK_PHONE: integer (nullable = true)\n",
      " |-- FLAG_PHONE: integer (nullable = true)\n",
      " |-- FLAG_EMAIL: integer (nullable = true)\n",
      " |-- OCCUPATION_TYPE: string (nullable = true)\n",
      " |-- CNT_FAM_MEMBERS: double (nullable = true)\n",
      "\n"
     ]
    }
   ],
   "source": [
    "df_application = spark.read.format('csv').options(header=True,inferSchema=True).load('application_record.csv')\n",
    "df_application.show(30, truncate=50)\n",
    "df_application.printSchema()"
   ]
  },
  {
   "cell_type": "code",
   "execution_count": 4,
   "id": "0c00aad6-8326-41a4-bf19-f61b34172fab",
   "metadata": {
    "tags": []
   },
   "outputs": [
    {
     "name": "stdout",
     "output_type": "stream",
     "text": [
      "+---+-----------+------------+---------------+------------+----------------+----------------+-------------------+------------------+-----------------+----------+-------------+----------+---------------+----------+----------+---------------+---------------+\n",
      "| ID|CODE_GENDER|FLAG_OWN_CAR|FLAG_OWN_REALTY|CNT_CHILDREN|AMT_INCOME_TOTAL|NAME_INCOME_TYPE|NAME_EDUCATION_TYPE|NAME_FAMILY_STATUS|NAME_HOUSING_TYPE|DAYS_BIRTH|DAYS_EMPLOYED|FLAG_MOBIL|FLAG_WORK_PHONE|FLAG_PHONE|FLAG_EMAIL|OCCUPATION_TYPE|CNT_FAM_MEMBERS|\n",
      "+---+-----------+------------+---------------+------------+----------------+----------------+-------------------+------------------+-----------------+----------+-------------+----------+---------------+----------+----------+---------------+---------------+\n",
      "|  0|          0|           0|              0|           0|               0|               0|                  0|                 0|                0|         0|            0|         0|              0|         0|         0|         134203|              0|\n",
      "+---+-----------+------------+---------------+------------+----------------+----------------+-------------------+------------------+-----------------+----------+-------------+----------+---------------+----------+----------+---------------+---------------+\n",
      "\n"
     ]
    }
   ],
   "source": [
    "# Check for null etc.\n",
    "df_application.select([count((when(isnan(c) | isnull(c), 1))).alias(c) for c in df_application.columns]).show()\n",
    "# No null in data so all data is valid"
   ]
  },
  {
   "cell_type": "code",
   "execution_count": 5,
   "id": "302dfa02-384d-4de7-b422-a3ca7f83e44f",
   "metadata": {
    "tags": []
   },
   "outputs": [
    {
     "name": "stdout",
     "output_type": "stream",
     "text": [
      "+-------+-----------+------------+---------------+------------+----------------+--------------------+--------------------+--------------------+-----------------+----------+-------------+---------------+----------+----------+---------------+---------------+\n",
      "|     id|code_gender|flag_own_car|flag_own_realty|cnt_children|amt_income_total|    name_income_type| name_education_type|  name_family_status|name_housing_type|days_birth|days_employed|flag_work_phone|flag_phone|flag_email|occupation_type|cnt_fam_members|\n",
      "+-------+-----------+------------+---------------+------------+----------------+--------------------+--------------------+--------------------+-----------------+----------+-------------+---------------+----------+----------+---------------+---------------+\n",
      "|5008804|          0|           1|              0|           0|        427500.0|             Working|    Higher education|      Civil marriage| Rented apartment|    -12005|        -4542|              1|         0|         0|           NULL|              2|\n",
      "|5008805|          0|           1|              0|           0|        427500.0|             Working|    Higher education|      Civil marriage| Rented apartment|    -12005|        -4542|              1|         0|         0|           NULL|              2|\n",
      "|5008806|          0|           1|              0|           0|        112500.0|             Working|Secondary / secon...|             Married|House / apartment|    -21474|        -1134|              0|         0|         0| Security staff|              2|\n",
      "|5008808|          1|           0|              0|           0|        270000.0|Commercial associate|Secondary / secon...|Single / not married|House / apartment|    -19110|        -3051|              0|         1|         1|    Sales staff|              1|\n",
      "|5008809|          1|           0|              0|           0|        270000.0|Commercial associate|Secondary / secon...|Single / not married|House / apartment|    -19110|        -3051|              0|         1|         1|    Sales staff|              1|\n",
      "|5008810|          1|           0|              0|           0|        270000.0|Commercial associate|Secondary / secon...|Single / not married|House / apartment|    -19110|        -3051|              0|         1|         1|    Sales staff|              1|\n",
      "|5008811|          1|           0|              0|           0|        270000.0|Commercial associate|Secondary / secon...|Single / not married|House / apartment|    -19110|        -3051|              0|         1|         1|    Sales staff|              1|\n",
      "|5008812|          1|           0|              0|           0|        283500.0|           Pensioner|    Higher education|           Separated|House / apartment|    -22464|       365243|              0|         0|         0|           NULL|              1|\n",
      "|5008813|          1|           0|              0|           0|        283500.0|           Pensioner|    Higher education|           Separated|House / apartment|    -22464|       365243|              0|         0|         0|           NULL|              1|\n",
      "|5008814|          1|           0|              0|           0|        283500.0|           Pensioner|    Higher education|           Separated|House / apartment|    -22464|       365243|              0|         0|         0|           NULL|              1|\n",
      "|5008815|          0|           1|              0|           0|        270000.0|             Working|    Higher education|             Married|House / apartment|    -16872|         -769|              1|         1|         1|    Accountants|              2|\n",
      "|5112956|          0|           1|              0|           0|        270000.0|             Working|    Higher education|             Married|House / apartment|    -16872|         -769|              1|         1|         1|    Accountants|              2|\n",
      "|6153651|          0|           1|              0|           0|        270000.0|             Working|    Higher education|             Married|House / apartment|    -16872|         -769|              1|         1|         1|    Accountants|              2|\n",
      "|5008819|          0|           1|              0|           0|        135000.0|Commercial associate|Secondary / secon...|             Married|House / apartment|    -17778|        -1194|              0|         0|         0|       Laborers|              2|\n",
      "|5008820|          0|           1|              0|           0|        135000.0|Commercial associate|Secondary / secon...|             Married|House / apartment|    -17778|        -1194|              0|         0|         0|       Laborers|              2|\n",
      "|5008821|          0|           1|              0|           0|        135000.0|Commercial associate|Secondary / secon...|             Married|House / apartment|    -17778|        -1194|              0|         0|         0|       Laborers|              2|\n",
      "|5008822|          0|           1|              0|           0|        135000.0|Commercial associate|Secondary / secon...|             Married|House / apartment|    -17778|        -1194|              0|         0|         0|       Laborers|              2|\n",
      "|5008823|          0|           1|              0|           0|        135000.0|Commercial associate|Secondary / secon...|             Married|House / apartment|    -17778|        -1194|              0|         0|         0|       Laborers|              2|\n",
      "|5008824|          0|           1|              0|           0|        135000.0|Commercial associate|Secondary / secon...|             Married|House / apartment|    -17778|        -1194|              0|         0|         0|       Laborers|              2|\n",
      "|5008825|          1|           1|              0|           0|        130500.0|             Working|   Incomplete higher|             Married|House / apartment|    -10669|        -1103|              0|         0|         0|    Accountants|              2|\n",
      "+-------+-----------+------------+---------------+------------+----------------+--------------------+--------------------+--------------------+-----------------+----------+-------------+---------------+----------+----------+---------------+---------------+\n",
      "only showing top 20 rows\n",
      "\n"
     ]
    }
   ],
   "source": [
    "# After checking the flag_mobil is not important because the data is only 1 and no other variation. so in the cleaned data not getting the flag mobil\n",
    "df_app_cleaned = df_application.select(['id','code_gender','flag_own_car','flag_own_realty','cnt_children','amt_income_total',\n",
    "                                        'name_income_type','name_education_type','name_family_status','name_housing_type','days_birth',\n",
    "                                        'days_employed','flag_work_phone','flag_phone','flag_email','occupation_type','cnt_fam_members'])\n",
    "\n",
    "# AND the value is always 0 an 1 as the boolean so we want to make our data uniform so changing the Y as 1 and N as 0, F as 1 and M as 0\n",
    "df_app_cleaned = df_app_cleaned.withColumn('code_gender', when(df_app_cleaned.code_gender == 'F',1).otherwise(0))\n",
    "df_app_cleaned = df_app_cleaned.withColumn('flag_own_car', when(df_app_cleaned.flag_own_car == 'Y',1).otherwise(0))\n",
    "df_app_cleaned = df_app_cleaned.withColumn('flag_own_realty', when(df_app_cleaned.flag_own_car == 'Y',1).otherwise(0))\n",
    "\n",
    "# More data cleaning cnt_fam_members should be integer because there shouldn't be fam members that is half or less than 1\n",
    "df_app_cleaned = df_app_cleaned.withColumn('cnt_fam_members', col('cnt_fam_members').cast('Integer'))\n",
    "\n",
    "df_app_cleaned.show()"
   ]
  },
  {
   "cell_type": "code",
   "execution_count": 6,
   "id": "534af437-02a3-4af1-9c9d-63f87aff9582",
   "metadata": {
    "tags": []
   },
   "outputs": [
    {
     "name": "stdout",
     "output_type": "stream",
     "text": [
      "+---+\n",
      "|age|\n",
      "+---+\n",
      "+---+\n",
      "\n",
      "+----------------+---------------+--------+\n",
      "|name_income_type|occupation_type|employed|\n",
      "+----------------+---------------+--------+\n",
      "|       Pensioner|           NULL|    -999|\n",
      "+----------------+---------------+--------+\n",
      "\n"
     ]
    }
   ],
   "source": [
    "# Changing the days birth into age Integer so that it will be classification into its correspondence age\n",
    "df_app_cleaned = df_app_cleaned.withColumn('age', floor(col('days_birth')/365.25) * -1)\n",
    "\n",
    "# Check value because age should not be negative or even > 100\n",
    "df_app_cleaned.select('age').where('age < 0 or age > 100').show()\n",
    "\n",
    "# Changing the days birth into age Integer so that it will be classification into its correspondence age\n",
    "df_app_cleaned = df_app_cleaned.withColumn('employed', floor(col('days_employed')/365.25) * -1)\n",
    "\n",
    "# Check value because age should not be negative or even > 100 as well as the occupation\n",
    "df_app_cleaned.select(['name_income_type','occupation_type','employed']).where('employed < 0 or employed > 100').distinct().show()"
   ]
  },
  {
   "cell_type": "code",
   "execution_count": 7,
   "id": "290d6ecb-349c-43ec-acf6-879820b60970",
   "metadata": {
    "tags": []
   },
   "outputs": [
    {
     "name": "stdout",
     "output_type": "stream",
     "text": [
      "+-------+-----------+------------+---------------+------------+----------------+--------------------+--------------------+--------------------+-----------------+----------+-------------+---------------+----------+----------+---------------+---------------+---+--------+\n",
      "|     id|code_gender|flag_own_car|flag_own_realty|cnt_children|amt_income_total|    name_income_type| name_education_type|  name_family_status|name_housing_type|days_birth|days_employed|flag_work_phone|flag_phone|flag_email|occupation_type|cnt_fam_members|age|employed|\n",
      "+-------+-----------+------------+---------------+------------+----------------+--------------------+--------------------+--------------------+-----------------+----------+-------------+---------------+----------+----------+---------------+---------------+---+--------+\n",
      "|5008804|          0|           1|              0|           0|        427500.0|             Working|    Higher education|      Civil marriage| Rented apartment|    -12005|        -4542|              1|         0|         0|           NULL|              2| 33|      13|\n",
      "|5008805|          0|           1|              0|           0|        427500.0|             Working|    Higher education|      Civil marriage| Rented apartment|    -12005|        -4542|              1|         0|         0|           NULL|              2| 33|      13|\n",
      "|5008806|          0|           1|              0|           0|        112500.0|             Working|Secondary / secon...|             Married|House / apartment|    -21474|        -1134|              0|         0|         0| Security staff|              2| 59|       4|\n",
      "|5008808|          1|           0|              0|           0|        270000.0|Commercial associate|Secondary / secon...|Single / not married|House / apartment|    -19110|        -3051|              0|         1|         1|    Sales staff|              1| 53|       9|\n",
      "|5008809|          1|           0|              0|           0|        270000.0|Commercial associate|Secondary / secon...|Single / not married|House / apartment|    -19110|        -3051|              0|         1|         1|    Sales staff|              1| 53|       9|\n",
      "|5008810|          1|           0|              0|           0|        270000.0|Commercial associate|Secondary / secon...|Single / not married|House / apartment|    -19110|        -3051|              0|         1|         1|    Sales staff|              1| 53|       9|\n",
      "|5008811|          1|           0|              0|           0|        270000.0|Commercial associate|Secondary / secon...|Single / not married|House / apartment|    -19110|        -3051|              0|         1|         1|    Sales staff|              1| 53|       9|\n",
      "|5008812|          1|           0|              0|           0|        283500.0|           Pensioner|    Higher education|           Separated|House / apartment|    -22464|       365243|              0|         0|         0|           NULL|              1| 62|       0|\n",
      "|5008813|          1|           0|              0|           0|        283500.0|           Pensioner|    Higher education|           Separated|House / apartment|    -22464|       365243|              0|         0|         0|           NULL|              1| 62|       0|\n",
      "|5008814|          1|           0|              0|           0|        283500.0|           Pensioner|    Higher education|           Separated|House / apartment|    -22464|       365243|              0|         0|         0|           NULL|              1| 62|       0|\n",
      "|5008815|          0|           1|              0|           0|        270000.0|             Working|    Higher education|             Married|House / apartment|    -16872|         -769|              1|         1|         1|    Accountants|              2| 47|       3|\n",
      "|5112956|          0|           1|              0|           0|        270000.0|             Working|    Higher education|             Married|House / apartment|    -16872|         -769|              1|         1|         1|    Accountants|              2| 47|       3|\n",
      "|6153651|          0|           1|              0|           0|        270000.0|             Working|    Higher education|             Married|House / apartment|    -16872|         -769|              1|         1|         1|    Accountants|              2| 47|       3|\n",
      "|5008819|          0|           1|              0|           0|        135000.0|Commercial associate|Secondary / secon...|             Married|House / apartment|    -17778|        -1194|              0|         0|         0|       Laborers|              2| 49|       4|\n",
      "|5008820|          0|           1|              0|           0|        135000.0|Commercial associate|Secondary / secon...|             Married|House / apartment|    -17778|        -1194|              0|         0|         0|       Laborers|              2| 49|       4|\n",
      "|5008821|          0|           1|              0|           0|        135000.0|Commercial associate|Secondary / secon...|             Married|House / apartment|    -17778|        -1194|              0|         0|         0|       Laborers|              2| 49|       4|\n",
      "|5008822|          0|           1|              0|           0|        135000.0|Commercial associate|Secondary / secon...|             Married|House / apartment|    -17778|        -1194|              0|         0|         0|       Laborers|              2| 49|       4|\n",
      "|5008823|          0|           1|              0|           0|        135000.0|Commercial associate|Secondary / secon...|             Married|House / apartment|    -17778|        -1194|              0|         0|         0|       Laborers|              2| 49|       4|\n",
      "|5008824|          0|           1|              0|           0|        135000.0|Commercial associate|Secondary / secon...|             Married|House / apartment|    -17778|        -1194|              0|         0|         0|       Laborers|              2| 49|       4|\n",
      "|5008825|          1|           1|              0|           0|        130500.0|             Working|   Incomplete higher|             Married|House / apartment|    -10669|        -1103|              0|         0|         0|    Accountants|              2| 30|       4|\n",
      "+-------+-----------+------------+---------------+------------+----------------+--------------------+--------------------+--------------------+-----------------+----------+-------------+---------------+----------+----------+---------------+---------------+---+--------+\n",
      "only showing top 20 rows\n",
      "\n"
     ]
    }
   ],
   "source": [
    "# because the data is said pensioner than it is possible that the employed is negative but for calculation sake it is better to make it into 0\n",
    "df_app_cleaned = df_app_cleaned.withColumn('employed', when(df_app_cleaned.employed < 0,0).otherwise(df_app_cleaned.employed))\n",
    "\n",
    "df_app_cleaned.show()"
   ]
  },
  {
   "cell_type": "code",
   "execution_count": 8,
   "id": "18583fa5-fe2d-47d8-9bc4-b725d2bd6047",
   "metadata": {
    "tags": []
   },
   "outputs": [
    {
     "data": {
      "text/plain": [
       "134203"
      ]
     },
     "execution_count": 8,
     "metadata": {},
     "output_type": "execute_result"
    }
   ],
   "source": [
    "# there is occupation type that is null so we need to fill it up\n",
    "df_app_cleaned.select('occupation_type').where(isnull(col('occupation_type'))).count() \n",
    "# There are no possibility to"
   ]
  },
  {
   "cell_type": "code",
   "execution_count": 9,
   "id": "59198495-e66a-48c8-b4e8-3f47dc15bde9",
   "metadata": {
    "tags": []
   },
   "outputs": [
    {
     "name": "stdout",
     "output_type": "stream",
     "text": [
      "+----------------+----------------+---------------+--------+\n",
      "|amt_income_total|name_income_type|occupation_type|employed|\n",
      "+----------------+----------------+---------------+--------+\n",
      "|        427500.0|         Working|           NULL|      13|\n",
      "|        427500.0|         Working|           NULL|      13|\n",
      "|        283500.0|       Pensioner|           NULL|       0|\n",
      "|        283500.0|       Pensioner|           NULL|       0|\n",
      "|        283500.0|       Pensioner|           NULL|       0|\n",
      "|        112500.0|         Working|           NULL|       5|\n",
      "|        112500.0|         Working|           NULL|       5|\n",
      "|        112500.0|         Working|           NULL|       5|\n",
      "|        315000.0|       Pensioner|           NULL|       0|\n",
      "|        225000.0|         Working|           NULL|       8|\n",
      "|        225000.0|         Working|           NULL|       8|\n",
      "|        225000.0|         Working|           NULL|       8|\n",
      "|        225000.0|         Working|           NULL|       8|\n",
      "|        157500.0|         Working|           NULL|       3|\n",
      "|        157500.0|         Working|           NULL|       3|\n",
      "|        157500.0|         Working|           NULL|       3|\n",
      "|        157500.0|         Working|           NULL|       3|\n",
      "|        112500.0|       Pensioner|           NULL|       0|\n",
      "|        112500.0|       Pensioner|           NULL|       0|\n",
      "|        112500.0|       Pensioner|           NULL|       0|\n",
      "+----------------+----------------+---------------+--------+\n",
      "only showing top 20 rows\n",
      "\n"
     ]
    }
   ],
   "source": [
    "# check for occupation type that is null\n",
    "df_app_cleaned.select(['amt_income_total','name_income_type','occupation_type','employed']).where(isnull(df_app_cleaned.occupation_type)).show()\n",
    "# there is possibility to use the amt_income_total & name_income_type to classified the occupation_type typically will have the same job\n",
    "# so need to find the exact number to it"
   ]
  },
  {
   "cell_type": "code",
   "execution_count": 10,
   "id": "a711c9cd-a9ac-401e-8cfc-10ebd0fae140",
   "metadata": {
    "tags": []
   },
   "outputs": [
    {
     "name": "stdout",
     "output_type": "stream",
     "text": [
      "+-------+-----------+------------+---------------+------------+----------------+----------------+--------------------+--------------------+-----------------+----------+-------------+---------------+----------+----------+---------------+---------------+---+--------+\n",
      "|     id|code_gender|flag_own_car|flag_own_realty|cnt_children|amt_income_total|name_income_type| name_education_type|  name_family_status|name_housing_type|days_birth|days_employed|flag_work_phone|flag_phone|flag_email|occupation_type|cnt_fam_members|age|employed|\n",
      "+-------+-----------+------------+---------------+------------+----------------+----------------+--------------------+--------------------+-----------------+----------+-------------+---------------+----------+----------+---------------+---------------+---+--------+\n",
      "|6093713|          1|           0|              0|           0|         26100.0|       Pensioner|Secondary / secon...|             Married|House / apartment|    -21003|       365243|              0|         0|         0|           NULL|              2| 58|       0|\n",
      "|6093712|          1|           0|              0|           0|         26100.0|       Pensioner|Secondary / secon...|             Married|House / apartment|    -21003|       365243|              0|         0|         0|           NULL|              2| 58|       0|\n",
      "|5213635|          1|           0|              0|           0|         27000.0|       Pensioner|Secondary / secon...|               Widow|House / apartment|    -20935|       365243|              0|         0|         0|           NULL|              1| 58|       0|\n",
      "|5213636|          1|           0|              0|           0|         27000.0|       Pensioner|Secondary / secon...|               Widow|House / apartment|    -20935|       365243|              0|         0|         0|           NULL|              1| 58|       0|\n",
      "|5369432|          1|           0|              0|           0|         27000.0|       Pensioner|Secondary / secon...|             Married|House / apartment|    -20794|       365243|              0|         0|         0|           NULL|              2| 57|       0|\n",
      "|5369433|          1|           0|              0|           0|         27000.0|       Pensioner|Secondary / secon...|             Married|House / apartment|    -20794|       365243|              0|         0|         0|           NULL|              2| 57|       0|\n",
      "|5369434|          1|           0|              0|           0|         27000.0|       Pensioner|Secondary / secon...|             Married|House / apartment|    -20794|       365243|              0|         0|         0|           NULL|              2| 57|       0|\n",
      "|5369435|          1|           0|              0|           0|         27000.0|       Pensioner|Secondary / secon...|             Married|House / apartment|    -20794|       365243|              0|         0|         0|           NULL|              2| 57|       0|\n",
      "|5565440|          0|           0|              0|           0|         27000.0|       Pensioner|Secondary / secon...|Single / not married|House / apartment|    -21236|       365243|              0|         1|         0|           NULL|              1| 59|       0|\n",
      "|5890283|          1|           0|              0|           0|         27000.0|       Pensioner|Secondary / secon...|             Married|House / apartment|    -21033|       365243|              0|         0|         0|           NULL|              2| 58|       0|\n",
      "|5890285|          1|           0|              0|           0|         27000.0|       Pensioner|Secondary / secon...|             Married|House / apartment|    -21033|       365243|              0|         0|         0|           NULL|              2| 58|       0|\n",
      "|5890287|          1|           0|              0|           0|         27000.0|       Pensioner|Secondary / secon...|             Married|House / apartment|    -21033|       365243|              0|         0|         0|           NULL|              2| 58|       0|\n",
      "|7565440|          0|           0|              0|           0|         27000.0|       Pensioner|Secondary / secon...|Single / not married|House / apartment|    -21236|       365243|              0|         1|         0|           NULL|              1| 59|       0|\n",
      "|5518822|          1|           0|              0|           1|         27000.0|   State servant|Secondary / secon...|             Married|House / apartment|    -10154|         -820|              0|         0|         0|     Core staff|              3| 28|       3|\n",
      "|5518823|          1|           0|              0|           1|         27000.0|   State servant|Secondary / secon...|             Married|House / apartment|    -10154|         -820|              0|         0|         0|     Core staff|              3| 28|       3|\n",
      "|6231976|          1|           0|              0|           0|         27000.0|   State servant|Secondary / secon...|             Married|     With parents|    -18707|         -161|              0|         0|         0|       Laborers|              2| 52|       1|\n",
      "|6231977|          1|           0|              0|           0|         27000.0|   State servant|Secondary / secon...|             Married|     With parents|    -18707|         -161|              0|         0|         0|       Laborers|              2| 52|       1|\n",
      "|5126174|          1|           0|              0|           0|         27000.0|         Working|    Higher education|      Civil marriage|House / apartment|    -14869|        -5067|              1|         0|         0|       Managers|              2| 41|      14|\n",
      "|5126175|          1|           0|              0|           0|         27000.0|         Working|    Higher education|      Civil marriage|House / apartment|    -14869|        -5067|              1|         0|         0|       Managers|              2| 41|      14|\n",
      "|5995345|          1|           0|              0|           0|         27000.0|         Working|    Higher education|      Civil marriage|House / apartment|    -14869|        -5067|              1|         0|         0|       Managers|              2| 41|      14|\n",
      "+-------+-----------+------------+---------------+------------+----------------+----------------+--------------------+--------------------+-----------------+----------+-------------+---------------+----------+----------+---------------+---------------+---+--------+\n",
      "only showing top 20 rows\n",
      "\n"
     ]
    }
   ],
   "source": [
    "# so use the possibility of it and fill the occupation_type that got from the amt_income_total and name_income_type\n",
    "from pyspark.sql import Window, functions as F\n",
    "\n",
    "# Define a window specification\n",
    "window_spec = Window.partitionBy('amt_income_total', 'name_income_type')\n",
    "\n",
    "# Fill missing values of occupation_type with the most frequent value within each group\n",
    "filled_occupation_type = F.first('occupation_type', ignorenulls=True).over(window_spec)\n",
    "\n",
    "# Fill missing values using coalesce\n",
    "df_app_cleaned = df_app_cleaned.withColumn('filled_occupation_type', filled_occupation_type)\n",
    "df_app_cleaned = df_app_cleaned.withColumn('occupation_type', F.coalesce('occupation_type', 'filled_occupation_type')).drop('filled_occupation_type')\n",
    "\n",
    "df_app_cleaned.show()"
   ]
  },
  {
   "cell_type": "code",
   "execution_count": 11,
   "id": "420e31f9-6e64-406a-978f-53be6a2c7a93",
   "metadata": {
    "tags": []
   },
   "outputs": [
    {
     "name": "stdout",
     "output_type": "stream",
     "text": [
      "+----------------+--------------------+---------------+--------+\n",
      "|amt_income_total|    name_income_type|occupation_type|employed|\n",
      "+----------------+--------------------+---------------+--------+\n",
      "|         32400.0|             Working|           NULL|       5|\n",
      "|         32400.0|             Working|           NULL|       5|\n",
      "|         32400.0|             Working|           NULL|       5|\n",
      "|         38250.0|       State servant|           NULL|       3|\n",
      "|         38250.0|       State servant|           NULL|       3|\n",
      "|         38250.0|       State servant|           NULL|       3|\n",
      "|         38250.0|       State servant|           NULL|       3|\n",
      "|         38250.0|       State servant|           NULL|       3|\n",
      "|         38250.0|       State servant|           NULL|       3|\n",
      "|         38250.0|       State servant|           NULL|       3|\n",
      "|         38700.0|             Working|           NULL|      26|\n",
      "|         41211.0|Commercial associate|           NULL|       6|\n",
      "|         41211.0|Commercial associate|           NULL|       6|\n",
      "|         41211.0|Commercial associate|           NULL|       6|\n",
      "|         41211.0|Commercial associate|           NULL|       6|\n",
      "|         41211.0|Commercial associate|           NULL|       6|\n",
      "|         41211.0|Commercial associate|           NULL|       6|\n",
      "|         41211.0|Commercial associate|           NULL|       6|\n",
      "|         41211.0|Commercial associate|           NULL|       6|\n",
      "|         52650.0|             Working|           NULL|       3|\n",
      "+----------------+--------------------+---------------+--------+\n",
      "only showing top 20 rows\n",
      "\n",
      "+-------+-----------+------------+---------------+------------+----------------+--------------------+--------------------+------------------+-----------------+----------+-------------+---------------+----------+----------+---------------+---------------+---+--------+\n",
      "|     id|code_gender|flag_own_car|flag_own_realty|cnt_children|amt_income_total|    name_income_type| name_education_type|name_family_status|name_housing_type|days_birth|days_employed|flag_work_phone|flag_phone|flag_email|occupation_type|cnt_fam_members|age|employed|\n",
      "+-------+-----------+------------+---------------+------------+----------------+--------------------+--------------------+------------------+-----------------+----------+-------------+---------------+----------+----------+---------------+---------------+---+--------+\n",
      "|6014233|          1|           0|              0|           1|         28723.5|Commercial associate|Secondary / secon...|           Married|House / apartment|    -14361|         -138|              1|         0|         0| Cleaning staff|              3| 40|       1|\n",
      "|6463725|          1|           0|              0|           1|         28723.5|Commercial associate|Secondary / secon...|           Married|House / apartment|    -14361|         -138|              1|         0|         0| Cleaning staff|              3| 40|       1|\n",
      "|6463726|          1|           0|              0|           1|         28723.5|Commercial associate|Secondary / secon...|           Married|House / apartment|    -14361|         -138|              1|         0|         0| Cleaning staff|              3| 40|       1|\n",
      "|6463727|          1|           0|              0|           1|         28723.5|Commercial associate|Secondary / secon...|           Married|House / apartment|    -14361|         -138|              1|         0|         0| Cleaning staff|              3| 40|       1|\n",
      "|6463728|          1|           0|              0|           1|         28723.5|Commercial associate|Secondary / secon...|           Married|House / apartment|    -14361|         -138|              1|         0|         0| Cleaning staff|              3| 40|       1|\n",
      "|6463729|          1|           0|              0|           1|         28723.5|Commercial associate|Secondary / secon...|           Married|House / apartment|    -14361|         -138|              1|         0|         0| Cleaning staff|              3| 40|       1|\n",
      "|5088968|          1|           1|              0|           0|         31500.0|Commercial associate|Secondary / secon...|           Married|House / apartment|    -17762|        -7734|              1|         1|         0| Cleaning staff|              2| 49|      22|\n",
      "|5088969|          1|           1|              0|           0|         31500.0|Commercial associate|Secondary / secon...|           Married|House / apartment|    -17762|        -7734|              1|         1|         0| Cleaning staff|              2| 49|      22|\n",
      "|5088970|          1|           1|              0|           0|         31500.0|Commercial associate|Secondary / secon...|           Married|House / apartment|    -17762|        -7734|              1|         1|         0| Cleaning staff|              2| 49|      22|\n",
      "|5088971|          1|           1|              0|           0|         31500.0|Commercial associate|Secondary / secon...|           Married|House / apartment|    -17762|        -7734|              1|         1|         0| Cleaning staff|              2| 49|      22|\n",
      "|5088972|          1|           1|              0|           0|         31500.0|Commercial associate|Secondary / secon...|           Married|House / apartment|    -17762|        -7734|              1|         1|         0| Cleaning staff|              2| 49|      22|\n",
      "|5088974|          1|           1|              0|           0|         31500.0|Commercial associate|Secondary / secon...|           Married|House / apartment|    -17762|        -7734|              1|         1|         0| Cleaning staff|              2| 49|      22|\n",
      "|5088975|          1|           1|              0|           0|         31500.0|Commercial associate|Secondary / secon...|           Married|House / apartment|    -17762|        -7734|              1|         1|         0| Cleaning staff|              2| 49|      22|\n",
      "|5088976|          1|           1|              0|           0|         31500.0|Commercial associate|Secondary / secon...|           Married|House / apartment|    -17762|        -7734|              1|         1|         0| Cleaning staff|              2| 49|      22|\n",
      "|5602956|          1|           0|              0|           1|         36000.0|Commercial associate|Secondary / secon...|    Civil marriage|House / apartment|    -14225|        -4059|              1|         0|         0|    Sales staff|              3| 39|      12|\n",
      "|5602957|          1|           0|              0|           1|         36000.0|Commercial associate|Secondary / secon...|    Civil marriage|House / apartment|    -14225|        -4059|              1|         0|         0|    Sales staff|              3| 39|      12|\n",
      "|5602958|          1|           0|              0|           1|         36000.0|Commercial associate|Secondary / secon...|    Civil marriage|House / apartment|    -14225|        -4059|              1|         0|         0|    Sales staff|              3| 39|      12|\n",
      "|5602959|          1|           0|              0|           1|         36000.0|Commercial associate|Secondary / secon...|    Civil marriage|House / apartment|    -14225|        -4059|              1|         0|         0|    Sales staff|              3| 39|      12|\n",
      "|6026865|          1|           0|              0|           1|         36000.0|Commercial associate|Secondary / secon...|    Civil marriage|House / apartment|    -14225|        -4059|              1|         0|         0|    Sales staff|              3| 39|      12|\n",
      "|6026866|          1|           0|              0|           1|         36000.0|Commercial associate|Secondary / secon...|    Civil marriage|House / apartment|    -14225|        -4059|              1|         0|         0|    Sales staff|              3| 39|      12|\n",
      "+-------+-----------+------------+---------------+------------+----------------+--------------------+--------------------+------------------+-----------------+----------+-------------+---------------+----------+----------+---------------+---------------+---+--------+\n",
      "only showing top 20 rows\n",
      "\n"
     ]
    }
   ],
   "source": [
    "# check for occupation type that is null  and that the amt_income_total and name_income_type same, but still null\n",
    "df_app_cleaned.select(['amt_income_total','name_income_type','occupation_type','employed']).where(isnull(df_app_cleaned.occupation_type) & (df_app_cleaned.employed != 0)).show()\n",
    "# There are no exact data to fill the null in that missing value, so the possibility is the same name_income_type with the nearest amt_income_total\n",
    "# Create a window specification to partition by 'name_income_type' and order by the absolute difference in 'amt_income_total'\n",
    "window_spec = Window.partitionBy('name_income_type').orderBy(F.abs(F.col('amt_income_total') - F.col('amt_income_total_with_null')))\n",
    "\n",
    "# Create a temporary column to store the amt_income_total of rows with null occupation_type\n",
    "df_temp = df_app_cleaned.withColumn('amt_income_total_with_null', F.when(F.col('occupation_type').isNull(), F.col('amt_income_total')))\n",
    "\n",
    "# Fill missing occupation_type using the nearest amt_income_total\n",
    "filled_occupation_type = F.first('occupation_type', ignorenulls=True).over(window_spec)\n",
    "df_temp = df_temp.withColumn('filled_occupation_type', filled_occupation_type)\n",
    "\n",
    "# Use coalesce to fill the null values\n",
    "df_app_cleaned = df_temp.withColumn('occupation_type', F.coalesce(F.col('occupation_type'), F.col('filled_occupation_type'))).drop('filled_occupation_type', 'amt_income_total_with_null')\n",
    "\n",
    "df_app_cleaned.show()"
   ]
  },
  {
   "cell_type": "code",
   "execution_count": 12,
   "id": "ee411b72-18aa-424f-bd51-af7b0990bfed",
   "metadata": {
    "tags": []
   },
   "outputs": [
    {
     "name": "stdout",
     "output_type": "stream",
     "text": [
      "+----------------+----------------+---------------+--------+\n",
      "|amt_income_total|name_income_type|occupation_type|employed|\n",
      "+----------------+----------------+---------------+--------+\n",
      "+----------------+----------------+---------------+--------+\n",
      "\n"
     ]
    }
   ],
   "source": [
    "# check for occupation type that is null\n",
    "df_app_cleaned.select(['amt_income_total','name_income_type','occupation_type','employed']).where(isnull(df_app_cleaned.occupation_type)).show()\n",
    "# Data already cleaned!!"
   ]
  },
  {
   "cell_type": "code",
   "execution_count": 13,
   "id": "b3cc6fec-326f-4974-b2ab-15f49f725af2",
   "metadata": {
    "tags": []
   },
   "outputs": [
    {
     "name": "stdout",
     "output_type": "stream",
     "text": [
      "+-------+--------------+------+\n",
      "|     ID|MONTHS_BALANCE|STATUS|\n",
      "+-------+--------------+------+\n",
      "|5001711|             0|     X|\n",
      "|5001711|            -1|     0|\n",
      "|5001711|            -2|     0|\n",
      "|5001711|            -3|     0|\n",
      "|5001712|             0|     C|\n",
      "|5001712|            -1|     C|\n",
      "|5001712|            -2|     C|\n",
      "|5001712|            -3|     C|\n",
      "|5001712|            -4|     C|\n",
      "|5001712|            -5|     C|\n",
      "|5001712|            -6|     C|\n",
      "|5001712|            -7|     C|\n",
      "|5001712|            -8|     C|\n",
      "|5001712|            -9|     0|\n",
      "|5001712|           -10|     0|\n",
      "|5001712|           -11|     0|\n",
      "|5001712|           -12|     0|\n",
      "|5001712|           -13|     0|\n",
      "|5001712|           -14|     0|\n",
      "|5001712|           -15|     0|\n",
      "|5001712|           -16|     0|\n",
      "|5001712|           -17|     0|\n",
      "|5001712|           -18|     0|\n",
      "|5001713|             0|     X|\n",
      "|5001713|            -1|     X|\n",
      "|5001713|            -2|     X|\n",
      "|5001713|            -3|     X|\n",
      "|5001713|            -4|     X|\n",
      "|5001713|            -5|     X|\n",
      "|5001713|            -6|     X|\n",
      "+-------+--------------+------+\n",
      "only showing top 30 rows\n",
      "\n",
      "root\n",
      " |-- ID: integer (nullable = true)\n",
      " |-- MONTHS_BALANCE: integer (nullable = true)\n",
      " |-- STATUS: string (nullable = true)\n",
      "\n",
      "Status \n",
      "      0 => 1-29 days past due \n",
      "      1 => 30-59 days past due \n",
      "      2 => 60-89 days past due \n",
      "      3 => 90-119 days past due \n",
      "      4 => 120-149 days past due \n",
      "      5 => overdue/ bad debts > 150 days \n",
      "      C => paid successfully \n",
      "      X => No loan \n",
      "\n"
     ]
    }
   ],
   "source": [
    "df_credit = spark.read.format('csv').options(header=True,inferSchema=True).load('credit_record.csv')\n",
    "df_credit.show(30, truncate=50)\n",
    "df_credit.printSchema()\n",
    "print('Status \\n\\\n",
    "      0 => 1-29 days past due \\n\\\n",
    "      1 => 30-59 days past due \\n\\\n",
    "      2 => 60-89 days past due \\n\\\n",
    "      3 => 90-119 days past due \\n\\\n",
    "      4 => 120-149 days past due \\n\\\n",
    "      5 => overdue/ bad debts > 150 days \\n\\\n",
    "      C => paid successfully \\n\\\n",
    "      X => No loan \\n\\\n",
    "')"
   ]
  },
  {
   "cell_type": "code",
   "execution_count": 14,
   "id": "b8b3e7a1-7a46-4f39-b93e-76d18e243d9b",
   "metadata": {
    "tags": []
   },
   "outputs": [
    {
     "name": "stdout",
     "output_type": "stream",
     "text": [
      "+---+--------------+------+\n",
      "| ID|MONTHS_BALANCE|STATUS|\n",
      "+---+--------------+------+\n",
      "|  0|             0|     0|\n",
      "+---+--------------+------+\n",
      "\n",
      "+---+--------------+------+\n",
      "| ID|MONTHS_BALANCE|STATUS|\n",
      "+---+--------------+------+\n",
      "|  0|             0|     0|\n",
      "+---+--------------+------+\n",
      "\n"
     ]
    }
   ],
   "source": [
    "# Check for null etc.\n",
    "df_credit.select([count((when(isnan(c) | isnull(c), 1))).alias(c) for c in df_credit.columns]).show()\n",
    "# No null in data so all data is valid# Check for null etc.\n",
    "df_credit.select([count((when(isnan(c) | isnull(c), 1))).alias(c) for c in df_credit.columns]).show()\n",
    "# No null in data so all data is valid"
   ]
  },
  {
   "cell_type": "code",
   "execution_count": 15,
   "id": "2cc10e62-199a-49d0-b2cb-5d59058c57b8",
   "metadata": {
    "tags": []
   },
   "outputs": [
    {
     "name": "stdout",
     "output_type": "stream",
     "text": [
      "+-------+--------------+------+\n",
      "|     ID|MONTHS_BALANCE|STATUS|\n",
      "+-------+--------------+------+\n",
      "|5001711|             0|     X|\n",
      "|5001711|            -1|     0|\n",
      "|5001711|            -2|     0|\n",
      "|5001711|            -3|     0|\n",
      "|5001712|             0|     C|\n",
      "|5001712|            -1|     C|\n",
      "|5001712|            -2|     C|\n",
      "|5001712|            -3|     C|\n",
      "|5001712|            -4|     C|\n",
      "|5001712|            -5|     C|\n",
      "|5001712|            -6|     C|\n",
      "|5001712|            -7|     C|\n",
      "|5001712|            -8|     C|\n",
      "|5001712|            -9|     0|\n",
      "|5001712|           -10|     0|\n",
      "|5001712|           -11|     0|\n",
      "|5001712|           -12|     0|\n",
      "|5001712|           -13|     0|\n",
      "|5001712|           -14|     0|\n",
      "|5001712|           -15|     0|\n",
      "+-------+--------------+------+\n",
      "only showing top 20 rows\n",
      "\n"
     ]
    }
   ],
   "source": [
    "df_credit.show()"
   ]
  },
  {
   "cell_type": "code",
   "execution_count": 21,
   "id": "92ba7110-043f-4964-b112-debb36b73cc6",
   "metadata": {
    "tags": []
   },
   "outputs": [
    {
     "name": "stdout",
     "output_type": "stream",
     "text": [
      "+-------+--------------+------+\n",
      "|     ID|MONTHS_BALANCE|STATUS|\n",
      "+-------+--------------+------+\n",
      "|5001711|             0|     X|\n",
      "|5001711|            -1|     0|\n",
      "|5001711|            -2|     0|\n",
      "|5001711|            -3|     0|\n",
      "|5001712|             0|     C|\n",
      "|5001712|            -1|     C|\n",
      "|5001712|            -2|     C|\n",
      "|5001712|            -3|     C|\n",
      "|5001712|            -4|     C|\n",
      "|5001712|            -5|     C|\n",
      "|5001712|            -6|     C|\n",
      "|5001713|             0|     X|\n",
      "|5001713|            -1|     X|\n",
      "|5001713|            -2|     X|\n",
      "|5001713|            -3|     X|\n",
      "|5001713|            -4|     X|\n",
      "|5001713|            -5|     X|\n",
      "|5001713|            -6|     X|\n",
      "|5001714|             0|     X|\n",
      "|5001714|            -1|     X|\n",
      "+-------+--------------+------+\n",
      "only showing top 20 rows\n",
      "\n"
     ]
    }
   ],
   "source": [
    "df_credit = df_credit.filter(col(\"MONTHS_BALANCE\") >= -6)\n",
    "df_credit.show()"
   ]
  },
  {
   "cell_type": "code",
   "execution_count": 22,
   "id": "087c56aa-280b-442e-80da-2faafc9b826f",
   "metadata": {
    "tags": []
   },
   "outputs": [
    {
     "name": "stdout",
     "output_type": "stream",
     "text": [
      "+-------+-----------+------------+---------------+------------+----------------+--------------------+--------------------+------------------+-----------------+----------+-------------+---------------+----------+----------+---------------+---------------+---+--------+\n",
      "|     id|code_gender|flag_own_car|flag_own_realty|cnt_children|amt_income_total|    name_income_type| name_education_type|name_family_status|name_housing_type|days_birth|days_employed|flag_work_phone|flag_phone|flag_email|occupation_type|cnt_fam_members|age|employed|\n",
      "+-------+-----------+------------+---------------+------------+----------------+--------------------+--------------------+------------------+-----------------+----------+-------------+---------------+----------+----------+---------------+---------------+---+--------+\n",
      "|6014233|          1|           0|              0|           1|         28723.5|Commercial associate|Secondary / secon...|           Married|House / apartment|    -14361|         -138|              1|         0|         0| Cleaning staff|              3| 40|       1|\n",
      "|6463725|          1|           0|              0|           1|         28723.5|Commercial associate|Secondary / secon...|           Married|House / apartment|    -14361|         -138|              1|         0|         0| Cleaning staff|              3| 40|       1|\n",
      "|6463726|          1|           0|              0|           1|         28723.5|Commercial associate|Secondary / secon...|           Married|House / apartment|    -14361|         -138|              1|         0|         0| Cleaning staff|              3| 40|       1|\n",
      "|6463727|          1|           0|              0|           1|         28723.5|Commercial associate|Secondary / secon...|           Married|House / apartment|    -14361|         -138|              1|         0|         0| Cleaning staff|              3| 40|       1|\n",
      "|6463728|          1|           0|              0|           1|         28723.5|Commercial associate|Secondary / secon...|           Married|House / apartment|    -14361|         -138|              1|         0|         0| Cleaning staff|              3| 40|       1|\n",
      "|6463729|          1|           0|              0|           1|         28723.5|Commercial associate|Secondary / secon...|           Married|House / apartment|    -14361|         -138|              1|         0|         0| Cleaning staff|              3| 40|       1|\n",
      "|5088968|          1|           1|              0|           0|         31500.0|Commercial associate|Secondary / secon...|           Married|House / apartment|    -17762|        -7734|              1|         1|         0| Cleaning staff|              2| 49|      22|\n",
      "|5088969|          1|           1|              0|           0|         31500.0|Commercial associate|Secondary / secon...|           Married|House / apartment|    -17762|        -7734|              1|         1|         0| Cleaning staff|              2| 49|      22|\n",
      "|5088970|          1|           1|              0|           0|         31500.0|Commercial associate|Secondary / secon...|           Married|House / apartment|    -17762|        -7734|              1|         1|         0| Cleaning staff|              2| 49|      22|\n",
      "|5088971|          1|           1|              0|           0|         31500.0|Commercial associate|Secondary / secon...|           Married|House / apartment|    -17762|        -7734|              1|         1|         0| Cleaning staff|              2| 49|      22|\n",
      "|5088972|          1|           1|              0|           0|         31500.0|Commercial associate|Secondary / secon...|           Married|House / apartment|    -17762|        -7734|              1|         1|         0| Cleaning staff|              2| 49|      22|\n",
      "|5088974|          1|           1|              0|           0|         31500.0|Commercial associate|Secondary / secon...|           Married|House / apartment|    -17762|        -7734|              1|         1|         0| Cleaning staff|              2| 49|      22|\n",
      "|5088975|          1|           1|              0|           0|         31500.0|Commercial associate|Secondary / secon...|           Married|House / apartment|    -17762|        -7734|              1|         1|         0| Cleaning staff|              2| 49|      22|\n",
      "|5088976|          1|           1|              0|           0|         31500.0|Commercial associate|Secondary / secon...|           Married|House / apartment|    -17762|        -7734|              1|         1|         0| Cleaning staff|              2| 49|      22|\n",
      "|5602956|          1|           0|              0|           1|         36000.0|Commercial associate|Secondary / secon...|    Civil marriage|House / apartment|    -14225|        -4059|              1|         0|         0|    Sales staff|              3| 39|      12|\n",
      "|5602957|          1|           0|              0|           1|         36000.0|Commercial associate|Secondary / secon...|    Civil marriage|House / apartment|    -14225|        -4059|              1|         0|         0|    Sales staff|              3| 39|      12|\n",
      "|5602958|          1|           0|              0|           1|         36000.0|Commercial associate|Secondary / secon...|    Civil marriage|House / apartment|    -14225|        -4059|              1|         0|         0|    Sales staff|              3| 39|      12|\n",
      "|5602959|          1|           0|              0|           1|         36000.0|Commercial associate|Secondary / secon...|    Civil marriage|House / apartment|    -14225|        -4059|              1|         0|         0|    Sales staff|              3| 39|      12|\n",
      "|6026865|          1|           0|              0|           1|         36000.0|Commercial associate|Secondary / secon...|    Civil marriage|House / apartment|    -14225|        -4059|              1|         0|         0|    Sales staff|              3| 39|      12|\n",
      "|6026866|          1|           0|              0|           1|         36000.0|Commercial associate|Secondary / secon...|    Civil marriage|House / apartment|    -14225|        -4059|              1|         0|         0|    Sales staff|              3| 39|      12|\n",
      "+-------+-----------+------------+---------------+------------+----------------+--------------------+--------------------+------------------+-----------------+----------+-------------+---------------+----------+----------+---------------+---------------+---+--------+\n",
      "only showing top 20 rows\n",
      "\n"
     ]
    }
   ],
   "source": [
    "df_app_cleaned.show()"
   ]
  },
  {
   "cell_type": "code",
   "execution_count": 23,
   "id": "533f8e6d-c99f-4cb9-b034-d106c1cbbd96",
   "metadata": {
    "tags": []
   },
   "outputs": [
    {
     "name": "stdout",
     "output_type": "stream",
     "text": [
      "root\n",
      " |-- id: integer (nullable = true)\n",
      " |-- gender: integer (nullable = false)\n",
      " |-- own_car: integer (nullable = false)\n",
      " |-- own_property: integer (nullable = false)\n",
      " |-- children: integer (nullable = true)\n",
      " |-- income: double (nullable = true)\n",
      " |-- income_type: string (nullable = true)\n",
      " |-- education: string (nullable = true)\n",
      " |-- family_status: string (nullable = true)\n",
      " |-- housing_type: string (nullable = true)\n",
      " |-- age_in_days: integer (nullable = true)\n",
      " |-- employment_in_days: integer (nullable = true)\n",
      " |-- work_phone: integer (nullable = true)\n",
      " |-- phone: integer (nullable = true)\n",
      " |-- email: integer (nullable = true)\n",
      " |-- occupation_type: string (nullable = true)\n",
      " |-- family_members: integer (nullable = true)\n",
      " |-- age: long (nullable = true)\n",
      " |-- employed: long (nullable = true)\n",
      "\n"
     ]
    }
   ],
   "source": [
    "df_app = df_app_cleaned \\\n",
    "    .withColumnRenamed('CODE_GENDER', 'gender') \\\n",
    "    .withColumnRenamed('FLAG_OWN_CAR', 'own_car') \\\n",
    "    .withColumnRenamed('FLAG_OWN_REALTY', 'own_property') \\\n",
    "    .withColumnRenamed('CNT_CHILDREN', 'children') \\\n",
    "    .withColumnRenamed('AMT_INCOME_TOTAL', 'income') \\\n",
    "    .withColumnRenamed('NAME_INCOME_TYPE', 'income_type') \\\n",
    "    .withColumnRenamed('NAME_EDUCATION_TYPE', 'education') \\\n",
    "    .withColumnRenamed('NAME_FAMILY_STATUS', 'family_status') \\\n",
    "    .withColumnRenamed('NAME_HOUSING_TYPE', 'housing_type') \\\n",
    "    .withColumnRenamed('FLAG_MOBIL', 'mobile') \\\n",
    "    .withColumnRenamed('FLAG_WORK_PHONE', 'work_phone') \\\n",
    "    .withColumnRenamed('FLAG_PHONE', 'phone') \\\n",
    "    .withColumnRenamed('FLAG_EMAIL', 'email') \\\n",
    "    .withColumnRenamed('CNT_FAM_MEMBERS', 'family_members') \\\n",
    "    .withColumnRenamed('MONTHS_BALANCE', 'months_balance') \\\n",
    "    .withColumnRenamed('STATUS', 'status') \\\n",
    "    .withColumnRenamed('DAYS_BIRTH', 'age_in_days') \\\n",
    "    .withColumnRenamed('DAYS_EMPLOYED', 'employment_in_days')\n",
    "\n",
    "# Show the DataFrame schema to confirm changes\n",
    "df_app.printSchema()"
   ]
  },
  {
   "cell_type": "code",
   "execution_count": 24,
   "id": "2e096d3c-7c49-4acd-9dae-724973d440a3",
   "metadata": {
    "tags": []
   },
   "outputs": [
    {
     "name": "stdout",
     "output_type": "stream",
     "text": [
      "+--------------------+\n",
      "|         income_type|\n",
      "+--------------------+\n",
      "|             Student|\n",
      "|Commercial associate|\n",
      "|       State servant|\n",
      "|             Working|\n",
      "|           Pensioner|\n",
      "+--------------------+\n",
      "\n",
      "+--------------------+\n",
      "|           education|\n",
      "+--------------------+\n",
      "|     Academic degree|\n",
      "|   Incomplete higher|\n",
      "|Secondary / secon...|\n",
      "|     Lower secondary|\n",
      "|    Higher education|\n",
      "+--------------------+\n",
      "\n",
      "+--------------------+\n",
      "|       family_status|\n",
      "+--------------------+\n",
      "|           Separated|\n",
      "|             Married|\n",
      "|Single / not married|\n",
      "|               Widow|\n",
      "|      Civil marriage|\n",
      "+--------------------+\n",
      "\n",
      "+-------------------+\n",
      "|       housing_type|\n",
      "+-------------------+\n",
      "|  House / apartment|\n",
      "|Municipal apartment|\n",
      "|    Co-op apartment|\n",
      "|   Rented apartment|\n",
      "|   Office apartment|\n",
      "|       With parents|\n",
      "+-------------------+\n",
      "\n",
      "+--------------------+\n",
      "|     occupation_type|\n",
      "+--------------------+\n",
      "|            Managers|\n",
      "|            HR staff|\n",
      "|      Medicine staff|\n",
      "|         Accountants|\n",
      "|            Laborers|\n",
      "|      Cleaning staff|\n",
      "|Private service s...|\n",
      "|             Drivers|\n",
      "|         Sales staff|\n",
      "|       Realty agents|\n",
      "|            IT staff|\n",
      "|      Security staff|\n",
      "|         Secretaries|\n",
      "|  Low-skill Laborers|\n",
      "|          Core staff|\n",
      "|       Cooking staff|\n",
      "|High skill tech s...|\n",
      "|Waiters/barmen staff|\n",
      "+--------------------+\n",
      "\n"
     ]
    }
   ],
   "source": [
    "#Categorical Data\n",
    "df_app.select('income_type').distinct().show()\n",
    "df_app.select('education').distinct().show()\n",
    "df_app.select('family_status').distinct().show()\n",
    "df_app.select('housing_type').distinct().show()\n",
    "df_app.select('occupation_type').distinct().show()"
   ]
  },
  {
   "cell_type": "code",
   "execution_count": 25,
   "id": "2140fb66-c90f-43bf-95b6-c1e31681b6d3",
   "metadata": {
    "tags": []
   },
   "outputs": [
    {
     "name": "stdout",
     "output_type": "stream",
     "text": [
      "+---------------+----------+\n",
      "|    Column_Name|Num_Unique|\n",
      "+---------------+----------+\n",
      "|    income_type|         5|\n",
      "|      education|         5|\n",
      "|  family_status|         5|\n",
      "|   housing_type|         6|\n",
      "|occupation_type|        18|\n",
      "+---------------+----------+\n",
      "\n"
     ]
    }
   ],
   "source": [
    "from pyspark.sql.functions import col, countDistinct\n",
    "from pyspark.sql.types import StringType\n",
    "\n",
    "string_columns = [field.name for field in df_app.schema.fields if field.dataType == StringType()]\n",
    "\n",
    "# Create a DataFrame to hold the column names and their counts of unique values\n",
    "unique_counts = df_app.select([countDistinct(col(c)).alias(c) for c in string_columns])\n",
    "\n",
    "# Convert the above DataFrame to have two columns: Column_Name and Num_Unique\n",
    "# First, create a single column DataFrame where each row has the format (ColumnName, Count)\n",
    "unique_counts = unique_counts.selectExpr(\"stack(\" + str(len(string_columns)) + \", \" + \n",
    "                                         \", \".join([f\"'{col}', {col}\" for col in string_columns]) + \n",
    "                                         \") as (Column_Name, Num_Unique)\")\n",
    "\n",
    "# Sort by Num_Unique\n",
    "unique_counts = unique_counts.sort(\"Num_Unique\")\n",
    "\n",
    "# Show the results\n",
    "unique_counts.show()"
   ]
  },
  {
   "cell_type": "code",
   "execution_count": 26,
   "id": "aeb915b4-b62d-496e-8fbc-979f20f9c99d",
   "metadata": {
    "tags": []
   },
   "outputs": [
    {
     "name": "stdout",
     "output_type": "stream",
     "text": [
      "+-------+-----------+------+-------+\n",
      "|     id|begin_month|gender|own_Car|\n",
      "+-------+-----------+------+-------+\n",
      "|5008804|         -6|     0|      1|\n",
      "|5008805|         -6|     0|      1|\n",
      "|5008806|         -6|     0|      1|\n",
      "|5008808|         -4|     1|      0|\n",
      "|5008809|       NULL|     1|      0|\n",
      "|5008810|         -6|     1|      0|\n",
      "|5008811|         -6|     1|      0|\n",
      "|5008812|         -6|     1|      0|\n",
      "|5008813|         -6|     1|      0|\n",
      "|5008814|         -6|     1|      0|\n",
      "|5008815|         -5|     0|      1|\n",
      "|5112956|         -6|     0|      1|\n",
      "|6153651|       NULL|     0|      1|\n",
      "|5008819|       NULL|     0|      1|\n",
      "|5008820|       NULL|     0|      1|\n",
      "|5008821|         -6|     0|      1|\n",
      "|5008822|       NULL|     0|      1|\n",
      "|5008823|         -6|     0|      1|\n",
      "|5008824|         -3|     0|      1|\n",
      "|5008825|         -6|     1|      1|\n",
      "+-------+-----------+------+-------+\n",
      "only showing top 20 rows\n",
      "\n"
     ]
    }
   ],
   "source": [
    "open_month = df_credit.groupBy(\"ID\").agg(min(\"MONTHS_BALANCE\").alias(\"begin_month\"))\n",
    "\n",
    "# Merge with the data DataFrame\n",
    "customer_data = df_app.join(open_month, on=\"ID\", how=\"left\")\n",
    "\n",
    "# Show the schema of the resulting DataFrame to confirm\n",
    "customer_data.select(['id', 'begin_month', 'gender', 'own_Car']).show()"
   ]
  },
  {
   "cell_type": "code",
   "execution_count": 27,
   "id": "3e94ad31-abaf-43fe-9b39-798ace8397fe",
   "metadata": {
    "tags": []
   },
   "outputs": [
    {
     "name": "stdout",
     "output_type": "stream",
     "text": [
      "+-----------------+\n",
      "|     housing_type|\n",
      "+-----------------+\n",
      "|House / apartment|\n",
      "|     With parents|\n",
      "+-----------------+\n",
      "\n"
     ]
    }
   ],
   "source": [
    "#Compact housing type\n",
    "housing_type = {'House / apartment' : 'House / apartment',\n",
    "                   'With parents': 'With parents',\n",
    "                    'Municipal apartment' : 'House / apartment',\n",
    "                    'Rented apartment': 'House / apartment',\n",
    "                    'Office apartment': 'House / apartment',\n",
    "                    'Co-op apartment': 'House / apartment'}\n",
    "\n",
    "def map_housing_type(col_name):\n",
    "    \n",
    "    expression = when(col(col_name) == 'With parents', housing_type['With parents'])\n",
    "    for key, value in housing_type.items():\n",
    "        if key != 'With parents': \n",
    "            expression = expression.when(col(col_name) == key, value)\n",
    "    return expression.otherwise(col(col_name)) \n",
    "\n",
    "customer_data = customer_data.withColumn(\"Housing_Type\", map_housing_type(\"Housing_Type\"))\n",
    "\n",
    "customer_data.select('housing_type').distinct().show()"
   ]
  },
  {
   "cell_type": "code",
   "execution_count": 28,
   "id": "3e26623a-5d8b-4f94-afef-cffcbef48331",
   "metadata": {
    "tags": []
   },
   "outputs": [
    {
     "name": "stdout",
     "output_type": "stream",
     "text": [
      "+----------------+\n",
      "|       Education|\n",
      "+----------------+\n",
      "| Academic degree|\n",
      "|       secondary|\n",
      "|Higher education|\n",
      "+----------------+\n",
      "\n"
     ]
    }
   ],
   "source": [
    "#Compact education type\n",
    "education_type = {\n",
    "    'Secondary / secondary special': 'secondary',\n",
    "    'Lower secondary': 'secondary',\n",
    "    'Higher education': 'Higher education',\n",
    "    'Incomplete higher': 'Higher education',\n",
    "    'Academic degree': 'Academic degree'\n",
    "}\n",
    "\n",
    "def map_education_type(col_name):\n",
    "    expression = when(col(col_name) == 'Secondary / secondary special', education_type['Secondary / secondary special'])\n",
    "    for key, value in education_type.items():\n",
    "        if key != 'Secondary / secondary special':  \n",
    "            expression = expression.when(col(col_name) == key, value)\n",
    "    return expression.otherwise(col(col_name)) \n",
    "\n",
    "customer_data = customer_data.withColumn(\"Education\", map_education_type(\"Education\"))\n",
    "customer_data.select('Education').distinct().show()"
   ]
  },
  {
   "cell_type": "code",
   "execution_count": 29,
   "id": "cddb66ba-532e-45a4-866e-f2e150ee7987",
   "metadata": {
    "tags": []
   },
   "outputs": [
    {
     "name": "stdout",
     "output_type": "stream",
     "text": [
      "+-----------+\n",
      "|Income_Type|\n",
      "+-----------+\n",
      "|    Student|\n",
      "|    Working|\n",
      "|  Pensioner|\n",
      "+-----------+\n",
      "\n"
     ]
    }
   ],
   "source": [
    "#Compact income type\n",
    "income_type = {\n",
    "    'Commercial associate': 'Working',\n",
    "    'State servant': 'Working',\n",
    "    'Working': 'Working',\n",
    "    'Pensioner': 'Pensioner',\n",
    "    'Student':'Student'\n",
    "}\n",
    "\n",
    "def map_income_type(col_name):\n",
    "    \n",
    "    expression = when(col(col_name) == 'Working', income_type['Working'])  \n",
    "    for key, value in income_type.items():\n",
    "        if key != 'Working': \n",
    "            expression = expression.when(col(col_name) == key, value)\n",
    "    return expression.otherwise(col(col_name))\n",
    "\n",
    "# Update the DataFrame\n",
    "customer_data = customer_data.withColumn(\"Income_Type\", map_income_type(\"Income_Type\"))\n",
    "\n",
    "# Show the updated results to verify the changes\n",
    "customer_data.select('Income_Type').distinct().show()"
   ]
  },
  {
   "cell_type": "code",
   "execution_count": 30,
   "id": "a602cd35-4a39-444c-b7d3-ff9d747f0a5d",
   "metadata": {
    "tags": []
   },
   "outputs": [
    {
     "name": "stdout",
     "output_type": "stream",
     "text": [
      "+--------------------+---------------+\n",
      "|Family_Status       |In_Relationship|\n",
      "+--------------------+---------------+\n",
      "|Civil marriage      |1              |\n",
      "|Civil marriage      |1              |\n",
      "|Married             |1              |\n",
      "|Single / not married|0              |\n",
      "|Single / not married|0              |\n",
      "|Single / not married|0              |\n",
      "|Single / not married|0              |\n",
      "|Separated           |0              |\n",
      "|Separated           |0              |\n",
      "|Separated           |0              |\n",
      "|Married             |1              |\n",
      "|Married             |1              |\n",
      "|Married             |1              |\n",
      "|Married             |1              |\n",
      "|Married             |1              |\n",
      "|Married             |1              |\n",
      "|Married             |1              |\n",
      "|Married             |1              |\n",
      "|Married             |1              |\n",
      "|Married             |1              |\n",
      "+--------------------+---------------+\n",
      "only showing top 20 rows\n",
      "\n"
     ]
    }
   ],
   "source": [
    "customer_data = customer_data.withColumn(\n",
    "    \"In_Relationship\",\n",
    "    when(\n",
    "        (col(\"Family_Status\") == \"Civil marriage\") | (col(\"Family_Status\") == \"Married\"), 1\n",
    "    ).otherwise(0)\n",
    ")\n",
    "\n",
    "# Show the updated results to verify the changes\n",
    "customer_data.select(\"Family_Status\", \"In_Relationship\").show(truncate=False)"
   ]
  },
  {
   "cell_type": "code",
   "execution_count": 31,
   "id": "607d7c90-2a98-4320-b7ea-0a1e2e5f1030",
   "metadata": {
    "tags": []
   },
   "outputs": [
    {
     "name": "stdout",
     "output_type": "stream",
     "text": [
      "root\n",
      " |-- id: integer (nullable = true)\n",
      " |-- gender: integer (nullable = false)\n",
      " |-- own_car: integer (nullable = false)\n",
      " |-- own_property: integer (nullable = false)\n",
      " |-- children: integer (nullable = true)\n",
      " |-- income: double (nullable = true)\n",
      " |-- Income_Type: string (nullable = true)\n",
      " |-- Education: string (nullable = true)\n",
      " |-- family_status: string (nullable = true)\n",
      " |-- Housing_Type: string (nullable = true)\n",
      " |-- age_in_days: integer (nullable = true)\n",
      " |-- employment_in_days: integer (nullable = true)\n",
      " |-- work_phone: integer (nullable = true)\n",
      " |-- phone: integer (nullable = true)\n",
      " |-- email: integer (nullable = true)\n",
      " |-- occupation_type: string (nullable = true)\n",
      " |-- family_members: integer (nullable = true)\n",
      " |-- age: long (nullable = true)\n",
      " |-- employed: long (nullable = true)\n",
      " |-- begin_month: integer (nullable = true)\n",
      " |-- In_Relationship: integer (nullable = false)\n",
      "\n"
     ]
    }
   ],
   "source": [
    "customer_data.printSchema()"
   ]
  },
  {
   "cell_type": "code",
   "execution_count": 33,
   "id": "02a6527f-9631-4c12-8309-6f31f6a0a5b6",
   "metadata": {
    "tags": []
   },
   "outputs": [
    {
     "ename": "AnalysisException",
     "evalue": "[UNRESOLVED_COLUMN.WITH_SUGGESTION] A column or function parameter with name `Household_Size` cannot be resolved. Did you mean one of the following? [`Housing_Type`, `children`, `Income_Type`, `email`, `employed`].;\n'Project [Income#2040, Age#536L, Employed#601L, 'Household_Size]\n+- Project [id#17, gender#1960, own_car#1980, own_property#2000, children#2020, income#2040, Income_Type#2552, Education#2524, family_status#2100, Housing_Type#2496, age_in_days#2277, employment_in_days#2297, work_phone#2159, phone#2179, email#2199, occupation_type#976, family_members#2219, age#536L, employed#601L, begin_month#2441, CASE WHEN ((Family_Status#2100 = Civil marriage) OR (Family_Status#2100 = Married)) THEN 1 ELSE 0 END AS In_Relationship#2580]\n   +- Project [id#17, gender#1960, own_car#1980, own_property#2000, children#2020, income#2040, CASE WHEN (Income_Type#2060 = Working) THEN Working WHEN (Income_Type#2060 = Commercial associate) THEN Working WHEN (Income_Type#2060 = State servant) THEN Working WHEN (Income_Type#2060 = Pensioner) THEN Pensioner WHEN (Income_Type#2060 = Student) THEN Student ELSE Income_Type#2060 END AS Income_Type#2552, Education#2524, family_status#2100, Housing_Type#2496, age_in_days#2277, employment_in_days#2297, work_phone#2159, phone#2179, email#2199, occupation_type#976, family_members#2219, age#536L, employed#601L, begin_month#2441]\n      +- Project [id#17, gender#1960, own_car#1980, own_property#2000, children#2020, income#2040, income_type#2060, CASE WHEN (Education#2080 = Secondary / secondary special) THEN secondary WHEN (Education#2080 = Lower secondary) THEN secondary WHEN (Education#2080 = Higher education) THEN Higher education WHEN (Education#2080 = Incomplete higher) THEN Higher education WHEN (Education#2080 = Academic degree) THEN Academic degree ELSE Education#2080 END AS Education#2524, family_status#2100, Housing_Type#2496, age_in_days#2277, employment_in_days#2297, work_phone#2159, phone#2179, email#2199, occupation_type#976, family_members#2219, age#536L, employed#601L, begin_month#2441]\n         +- Project [id#17, gender#1960, own_car#1980, own_property#2000, children#2020, income#2040, income_type#2060, education#2080, family_status#2100, CASE WHEN (Housing_Type#2120 = With parents) THEN With parents WHEN (Housing_Type#2120 = House / apartment) THEN House / apartment WHEN (Housing_Type#2120 = Municipal apartment) THEN House / apartment WHEN (Housing_Type#2120 = Rented apartment) THEN House / apartment WHEN (Housing_Type#2120 = Office apartment) THEN House / apartment WHEN (Housing_Type#2120 = Co-op apartment) THEN House / apartment ELSE Housing_Type#2120 END AS Housing_Type#2496, age_in_days#2277, employment_in_days#2297, work_phone#2159, phone#2179, email#2199, occupation_type#976, family_members#2219, age#536L, employed#601L, begin_month#2441]\n            +- Project [id#17, gender#1960, own_car#1980, own_property#2000, children#2020, income#2040, income_type#2060, education#2080, family_status#2100, housing_type#2120, age_in_days#2277, employment_in_days#2297, work_phone#2159, phone#2179, email#2199, occupation_type#976, family_members#2219, age#536L, employed#601L, begin_month#2441]\n               +- Join LeftOuter, (id#17 = ID#1160)\n                  :- Project [id#17, gender#1960, own_car#1980, own_property#2000, children#2020, income#2040, income_type#2060, education#2080, family_status#2100, housing_type#2120, age_in_days#2277, days_employed#28 AS employment_in_days#2297, work_phone#2159, phone#2179, email#2199, occupation_type#976, family_members#2219, age#536L, employed#601L]\n                  :  +- Project [id#17, gender#1960, own_car#1980, own_property#2000, children#2020, income#2040, income_type#2060, education#2080, family_status#2100, housing_type#2120, days_birth#27 AS age_in_days#2277, days_employed#28, work_phone#2159, phone#2179, email#2199, occupation_type#976, family_members#2219, age#536L, employed#601L]\n                  :     +- Project [id#17, gender#1960, own_car#1980, own_property#2000, children#2020, income#2040, income_type#2060, education#2080, family_status#2100, housing_type#2120, days_birth#27, days_employed#28, work_phone#2159, phone#2179, email#2199, occupation_type#976, cnt_fam_members#433 AS family_members#2219, age#536L, employed#601L]\n                  :        +- Project [id#17, gender#1960, own_car#1980, own_property#2000, children#2020, income#2040, income_type#2060, education#2080, family_status#2100, housing_type#2120, days_birth#27, days_employed#28, work_phone#2159, phone#2179, flag_email#32 AS email#2199, occupation_type#976, cnt_fam_members#433, age#536L, employed#601L]\n                  :           +- Project [id#17, gender#1960, own_car#1980, own_property#2000, children#2020, income#2040, income_type#2060, education#2080, family_status#2100, housing_type#2120, days_birth#27, days_employed#28, work_phone#2159, flag_phone#31 AS phone#2179, flag_email#32, occupation_type#976, cnt_fam_members#433, age#536L, employed#601L]\n                  :              +- Project [id#17, gender#1960, own_car#1980, own_property#2000, children#2020, income#2040, income_type#2060, education#2080, family_status#2100, housing_type#2120, days_birth#27, days_employed#28, flag_work_phone#30 AS work_phone#2159, flag_phone#31, flag_email#32, occupation_type#976, cnt_fam_members#433, age#536L, employed#601L]\n                  :                 +- Project [id#17, gender#1960, own_car#1980, own_property#2000, children#2020, income#2040, income_type#2060, education#2080, family_status#2100, name_housing_type#26 AS housing_type#2120, days_birth#27, days_employed#28, flag_work_phone#30, flag_phone#31, flag_email#32, occupation_type#976, cnt_fam_members#433, age#536L, employed#601L]\n                  :                    +- Project [id#17, gender#1960, own_car#1980, own_property#2000, children#2020, income#2040, income_type#2060, education#2080, name_family_status#25 AS family_status#2100, name_housing_type#26, days_birth#27, days_employed#28, flag_work_phone#30, flag_phone#31, flag_email#32, occupation_type#976, cnt_fam_members#433, age#536L, employed#601L]\n                  :                       +- Project [id#17, gender#1960, own_car#1980, own_property#2000, children#2020, income#2040, income_type#2060, name_education_type#24 AS education#2080, name_family_status#25, name_housing_type#26, days_birth#27, days_employed#28, flag_work_phone#30, flag_phone#31, flag_email#32, occupation_type#976, cnt_fam_members#433, age#536L, employed#601L]\n                  :                          +- Project [id#17, gender#1960, own_car#1980, own_property#2000, children#2020, income#2040, name_income_type#23 AS income_type#2060, name_education_type#24, name_family_status#25, name_housing_type#26, days_birth#27, days_employed#28, flag_work_phone#30, flag_phone#31, flag_email#32, occupation_type#976, cnt_fam_members#433, age#536L, employed#601L]\n                  :                             +- Project [id#17, gender#1960, own_car#1980, own_property#2000, children#2020, amt_income_total#22 AS income#2040, name_income_type#23, name_education_type#24, name_family_status#25, name_housing_type#26, days_birth#27, days_employed#28, flag_work_phone#30, flag_phone#31, flag_email#32, occupation_type#976, cnt_fam_members#433, age#536L, employed#601L]\n                  :                                +- Project [id#17, gender#1960, own_car#1980, own_property#2000, cnt_children#21 AS children#2020, amt_income_total#22, name_income_type#23, name_education_type#24, name_family_status#25, name_housing_type#26, days_birth#27, days_employed#28, flag_work_phone#30, flag_phone#31, flag_email#32, occupation_type#976, cnt_fam_members#433, age#536L, employed#601L]\n                  :                                   +- Project [id#17, gender#1960, own_car#1980, flag_own_realty#415 AS own_property#2000, cnt_children#21, amt_income_total#22, name_income_type#23, name_education_type#24, name_family_status#25, name_housing_type#26, days_birth#27, days_employed#28, flag_work_phone#30, flag_phone#31, flag_email#32, occupation_type#976, cnt_fam_members#433, age#536L, employed#601L]\n                  :                                      +- Project [id#17, gender#1960, flag_own_car#397 AS own_car#1980, flag_own_realty#415, cnt_children#21, amt_income_total#22, name_income_type#23, name_education_type#24, name_family_status#25, name_housing_type#26, days_birth#27, days_employed#28, flag_work_phone#30, flag_phone#31, flag_email#32, occupation_type#976, cnt_fam_members#433, age#536L, employed#601L]\n                  :                                         +- Project [id#17, code_gender#379 AS gender#1960, flag_own_car#397, flag_own_realty#415, cnt_children#21, amt_income_total#22, name_income_type#23, name_education_type#24, name_family_status#25, name_housing_type#26, days_birth#27, days_employed#28, flag_work_phone#30, flag_phone#31, flag_email#32, occupation_type#976, cnt_fam_members#433, age#536L, employed#601L]\n                  :                                            +- Project [id#17, code_gender#379, flag_own_car#397, flag_own_realty#415, cnt_children#21, amt_income_total#22, name_income_type#23, name_education_type#24, name_family_status#25, name_housing_type#26, days_birth#27, days_employed#28, flag_work_phone#30, flag_phone#31, flag_email#32, occupation_type#976, cnt_fam_members#433, age#536L, employed#601L]\n                  :                                               +- Project [id#17, code_gender#379, flag_own_car#397, flag_own_realty#415, cnt_children#21, amt_income_total#22, name_income_type#23, name_education_type#24, name_family_status#25, name_housing_type#26, days_birth#27, days_employed#28, flag_work_phone#30, flag_phone#31, flag_email#32, coalesce(occupation_type#769, filled_occupation_type#953) AS occupation_type#976, cnt_fam_members#433, age#536L, employed#601L, amt_income_total_with_null#931, filled_occupation_type#953]\n                  :                                                  +- Project [id#17, code_gender#379, flag_own_car#397, flag_own_realty#415, cnt_children#21, amt_income_total#22, name_income_type#23, name_education_type#24, name_family_status#25, name_housing_type#26, days_birth#27, days_employed#28, flag_work_phone#30, flag_phone#31, flag_email#32, occupation_type#769, cnt_fam_members#433, age#536L, employed#601L, amt_income_total_with_null#931, filled_occupation_type#953]\n                  :                                                     +- Project [id#17, code_gender#379, flag_own_car#397, flag_own_realty#415, cnt_children#21, amt_income_total#22, name_income_type#23, name_education_type#24, name_family_status#25, name_housing_type#26, days_birth#27, days_employed#28, flag_work_phone#30, flag_phone#31, flag_email#32, occupation_type#769, cnt_fam_members#433, age#536L, employed#601L, amt_income_total_with_null#931, _w0#954, filled_occupation_type#953, filled_occupation_type#953]\n                  :                                                        +- Window [first(occupation_type#769, true) windowspecdefinition(name_income_type#23, _w0#954 ASC NULLS FIRST, specifiedwindowframe(RangeFrame, unboundedpreceding$(), currentrow$())) AS filled_occupation_type#953], [name_income_type#23], [_w0#954 ASC NULLS FIRST]\n                  :                                                           +- Project [id#17, code_gender#379, flag_own_car#397, flag_own_realty#415, cnt_children#21, amt_income_total#22, name_income_type#23, name_education_type#24, name_family_status#25, name_housing_type#26, days_birth#27, days_employed#28, flag_work_phone#30, flag_phone#31, flag_email#32, occupation_type#769, cnt_fam_members#433, age#536L, employed#601L, amt_income_total_with_null#931, abs((amt_income_total#22 - amt_income_total_with_null#931)) AS _w0#954]\n                  :                                                              +- Project [id#17, code_gender#379, flag_own_car#397, flag_own_realty#415, cnt_children#21, amt_income_total#22, name_income_type#23, name_education_type#24, name_family_status#25, name_housing_type#26, days_birth#27, days_employed#28, flag_work_phone#30, flag_phone#31, flag_email#32, occupation_type#769, cnt_fam_members#433, age#536L, employed#601L, CASE WHEN isnull(occupation_type#769) THEN amt_income_total#22 END AS amt_income_total_with_null#931]\n                  :                                                                 +- Project [id#17, code_gender#379, flag_own_car#397, flag_own_realty#415, cnt_children#21, amt_income_total#22, name_income_type#23, name_education_type#24, name_family_status#25, name_housing_type#26, days_birth#27, days_employed#28, flag_work_phone#30, flag_phone#31, flag_email#32, occupation_type#769, cnt_fam_members#433, age#536L, employed#601L]\n                  :                                                                    +- Project [id#17, code_gender#379, flag_own_car#397, flag_own_realty#415, cnt_children#21, amt_income_total#22, name_income_type#23, name_education_type#24, name_family_status#25, name_housing_type#26, days_birth#27, days_employed#28, flag_work_phone#30, flag_phone#31, flag_email#32, coalesce(occupation_type#33, filled_occupation_type#748) AS occupation_type#769, cnt_fam_members#433, age#536L, employed#601L, filled_occupation_type#748]\n                  :                                                                       +- Project [id#17, code_gender#379, flag_own_car#397, flag_own_realty#415, cnt_children#21, amt_income_total#22, name_income_type#23, name_education_type#24, name_family_status#25, name_housing_type#26, days_birth#27, days_employed#28, flag_work_phone#30, flag_phone#31, flag_email#32, occupation_type#33, cnt_fam_members#433, age#536L, employed#601L, filled_occupation_type#748]\n                  :                                                                          +- Project [id#17, code_gender#379, flag_own_car#397, flag_own_realty#415, cnt_children#21, amt_income_total#22, name_income_type#23, name_education_type#24, name_family_status#25, name_housing_type#26, days_birth#27, days_employed#28, flag_work_phone#30, flag_phone#31, flag_email#32, occupation_type#33, cnt_fam_members#433, age#536L, employed#601L, filled_occupation_type#748, filled_occupation_type#748]\n                  :                                                                             +- Window [first(occupation_type#33, true) windowspecdefinition(amt_income_total#22, name_income_type#23, specifiedwindowframe(RowFrame, unboundedpreceding$(), unboundedfollowing$())) AS filled_occupation_type#748], [amt_income_total#22, name_income_type#23]\n                  :                                                                                +- Project [id#17, code_gender#379, flag_own_car#397, flag_own_realty#415, cnt_children#21, amt_income_total#22, name_income_type#23, name_education_type#24, name_family_status#25, name_housing_type#26, days_birth#27, days_employed#28, flag_work_phone#30, flag_phone#31, flag_email#32, occupation_type#33, cnt_fam_members#433, age#536L, employed#601L]\n                  :                                                                                   +- Project [id#17, code_gender#379, flag_own_car#397, flag_own_realty#415, cnt_children#21, amt_income_total#22, name_income_type#23, name_education_type#24, name_family_status#25, name_housing_type#26, days_birth#27, days_employed#28, flag_work_phone#30, flag_phone#31, flag_email#32, occupation_type#33, cnt_fam_members#433, age#536L, CASE WHEN (employed#562L < cast(0 as bigint)) THEN cast(0 as bigint) ELSE employed#562L END AS employed#601L]\n                  :                                                                                      +- Project [id#17, code_gender#379, flag_own_car#397, flag_own_realty#415, cnt_children#21, amt_income_total#22, name_income_type#23, name_education_type#24, name_family_status#25, name_housing_type#26, days_birth#27, days_employed#28, flag_work_phone#30, flag_phone#31, flag_email#32, occupation_type#33, cnt_fam_members#433, age#536L, (FLOOR((cast(days_employed#28 as double) / cast(365.25 as double))) * cast(-1 as bigint)) AS employed#562L]\n                  :                                                                                         +- Project [id#17, code_gender#379, flag_own_car#397, flag_own_realty#415, cnt_children#21, amt_income_total#22, name_income_type#23, name_education_type#24, name_family_status#25, name_housing_type#26, days_birth#27, days_employed#28, flag_work_phone#30, flag_phone#31, flag_email#32, occupation_type#33, cnt_fam_members#433, (FLOOR((cast(days_birth#27 as double) / cast(365.25 as double))) * cast(-1 as bigint)) AS age#536L]\n                  :                                                                                            +- Project [id#17, code_gender#379, flag_own_car#397, flag_own_realty#415, cnt_children#21, amt_income_total#22, name_income_type#23, name_education_type#24, name_family_status#25, name_housing_type#26, days_birth#27, days_employed#28, flag_work_phone#30, flag_phone#31, flag_email#32, occupation_type#33, cast(cnt_fam_members#34 as int) AS cnt_fam_members#433]\n                  :                                                                                               +- Project [id#17, code_gender#379, flag_own_car#397, CASE WHEN (flag_own_car#397 = cast(Y as int)) THEN 1 ELSE 0 END AS flag_own_realty#415, cnt_children#21, amt_income_total#22, name_income_type#23, name_education_type#24, name_family_status#25, name_housing_type#26, days_birth#27, days_employed#28, flag_work_phone#30, flag_phone#31, flag_email#32, occupation_type#33, cnt_fam_members#34]\n                  :                                                                                                  +- Project [id#17, code_gender#379, CASE WHEN (flag_own_car#19 = Y) THEN 1 ELSE 0 END AS flag_own_car#397, flag_own_realty#20, cnt_children#21, amt_income_total#22, name_income_type#23, name_education_type#24, name_family_status#25, name_housing_type#26, days_birth#27, days_employed#28, flag_work_phone#30, flag_phone#31, flag_email#32, occupation_type#33, cnt_fam_members#34]\n                  :                                                                                                     +- Project [id#17, CASE WHEN (code_gender#18 = F) THEN 1 ELSE 0 END AS code_gender#379, flag_own_car#19, flag_own_realty#20, cnt_children#21, amt_income_total#22, name_income_type#23, name_education_type#24, name_family_status#25, name_housing_type#26, days_birth#27, days_employed#28, flag_work_phone#30, flag_phone#31, flag_email#32, occupation_type#33, cnt_fam_members#34]\n                  :                                                                                                        +- Project [id#17, code_gender#18, flag_own_car#19, flag_own_realty#20, cnt_children#21, amt_income_total#22, name_income_type#23, name_education_type#24, name_family_status#25, name_housing_type#26, days_birth#27, days_employed#28, flag_work_phone#30, flag_phone#31, flag_email#32, occupation_type#33, cnt_fam_members#34]\n                  :                                                                                                           +- Relation [ID#17,CODE_GENDER#18,FLAG_OWN_CAR#19,FLAG_OWN_REALTY#20,CNT_CHILDREN#21,AMT_INCOME_TOTAL#22,NAME_INCOME_TYPE#23,NAME_EDUCATION_TYPE#24,NAME_FAMILY_STATUS#25,NAME_HOUSING_TYPE#26,DAYS_BIRTH#27,DAYS_EMPLOYED#28,FLAG_MOBIL#29,FLAG_WORK_PHONE#30,FLAG_PHONE#31,FLAG_EMAIL#32,OCCUPATION_TYPE#33,CNT_FAM_MEMBERS#34] csv\n                  +- Aggregate [ID#1160], [ID#1160, min(MONTHS_BALANCE#1161) AS begin_month#2441]\n                     +- Filter (MONTHS_BALANCE#1161 >= -6)\n                        +- Filter (MONTHS_BALANCE#1161 >= -6)\n                           +- Relation [ID#1160,MONTHS_BALANCE#1161,STATUS#1162] csv\n",
     "output_type": "error",
     "traceback": [
      "\u001b[1;31m---------------------------------------------------------------------------\u001b[0m",
      "\u001b[1;31mAnalysisException\u001b[0m                         Traceback (most recent call last)",
      "Cell \u001b[1;32mIn[33], line 4\u001b[0m\n\u001b[0;32m      1\u001b[0m \u001b[38;5;28;01mimport\u001b[39;00m \u001b[38;5;21;01mplotly\u001b[39;00m\u001b[38;5;21;01m.\u001b[39;00m\u001b[38;5;21;01mgraph_objects\u001b[39;00m \u001b[38;5;28;01mas\u001b[39;00m \u001b[38;5;21;01mgo\u001b[39;00m\n\u001b[0;32m      2\u001b[0m \u001b[38;5;28;01mfrom\u001b[39;00m \u001b[38;5;21;01mplotly\u001b[39;00m\u001b[38;5;21;01m.\u001b[39;00m\u001b[38;5;21;01msubplots\u001b[39;00m \u001b[38;5;28;01mimport\u001b[39;00m make_subplots\n\u001b[1;32m----> 4\u001b[0m data_to_plot \u001b[38;5;241m=\u001b[39m customer_data\u001b[38;5;241m.\u001b[39mselect(\u001b[38;5;124m\"\u001b[39m\u001b[38;5;124mIncome\u001b[39m\u001b[38;5;124m\"\u001b[39m, \u001b[38;5;124m\"\u001b[39m\u001b[38;5;124mAge\u001b[39m\u001b[38;5;124m\"\u001b[39m, \u001b[38;5;124m\"\u001b[39m\u001b[38;5;124mEmployed\u001b[39m\u001b[38;5;124m\"\u001b[39m, \u001b[38;5;124m\"\u001b[39m\u001b[38;5;124mHousehold_Size\u001b[39m\u001b[38;5;124m\"\u001b[39m)\u001b[38;5;241m.\u001b[39mtoPandas()\n\u001b[0;32m      6\u001b[0m \u001b[38;5;66;03m# Create subplot structure\u001b[39;00m\n\u001b[0;32m      7\u001b[0m fig \u001b[38;5;241m=\u001b[39m make_subplots(rows\u001b[38;5;241m=\u001b[39m\u001b[38;5;241m2\u001b[39m, cols\u001b[38;5;241m=\u001b[39m\u001b[38;5;241m2\u001b[39m, start_cell\u001b[38;5;241m=\u001b[39m\u001b[38;5;124m\"\u001b[39m\u001b[38;5;124mbottom-left\u001b[39m\u001b[38;5;124m\"\u001b[39m,\n\u001b[0;32m      8\u001b[0m                     subplot_titles\u001b[38;5;241m=\u001b[39m(\u001b[38;5;124m\"\u001b[39m\u001b[38;5;124mIncome\u001b[39m\u001b[38;5;124m\"\u001b[39m, \u001b[38;5;124m\"\u001b[39m\u001b[38;5;124mAge\u001b[39m\u001b[38;5;124m\"\u001b[39m, \u001b[38;5;124m\"\u001b[39m\u001b[38;5;124mEmployed\u001b[39m\u001b[38;5;124m\"\u001b[39m, \u001b[38;5;124m\"\u001b[39m\u001b[38;5;124mHousehold Size\u001b[39m\u001b[38;5;124m\"\u001b[39m))\n",
      "File \u001b[1;32mD:\\UKP\\BigData\\Spark\\spark-3.5.1-bin-hadoop3\\python\\lib\\pyspark.zip\\pyspark\\sql\\dataframe.py:3227\u001b[0m, in \u001b[0;36mDataFrame.select\u001b[1;34m(self, *cols)\u001b[0m\n\u001b[0;32m   3182\u001b[0m \u001b[38;5;28;01mdef\u001b[39;00m \u001b[38;5;21mselect\u001b[39m(\u001b[38;5;28mself\u001b[39m, \u001b[38;5;241m*\u001b[39mcols: \u001b[38;5;124m\"\u001b[39m\u001b[38;5;124mColumnOrName\u001b[39m\u001b[38;5;124m\"\u001b[39m) \u001b[38;5;241m-\u001b[39m\u001b[38;5;241m>\u001b[39m \u001b[38;5;124m\"\u001b[39m\u001b[38;5;124mDataFrame\u001b[39m\u001b[38;5;124m\"\u001b[39m:  \u001b[38;5;66;03m# type: ignore[misc]\u001b[39;00m\n\u001b[0;32m   3183\u001b[0m \u001b[38;5;250m    \u001b[39m\u001b[38;5;124;03m\"\"\"Projects a set of expressions and returns a new :class:`DataFrame`.\u001b[39;00m\n\u001b[0;32m   3184\u001b[0m \n\u001b[0;32m   3185\u001b[0m \u001b[38;5;124;03m    .. versionadded:: 1.3.0\u001b[39;00m\n\u001b[1;32m   (...)\u001b[0m\n\u001b[0;32m   3225\u001b[0m \u001b[38;5;124;03m    +-----+---+\u001b[39;00m\n\u001b[0;32m   3226\u001b[0m \u001b[38;5;124;03m    \"\"\"\u001b[39;00m\n\u001b[1;32m-> 3227\u001b[0m     jdf \u001b[38;5;241m=\u001b[39m \u001b[38;5;28mself\u001b[39m\u001b[38;5;241m.\u001b[39m_jdf\u001b[38;5;241m.\u001b[39mselect(\u001b[38;5;28mself\u001b[39m\u001b[38;5;241m.\u001b[39m_jcols(\u001b[38;5;241m*\u001b[39mcols))\n\u001b[0;32m   3228\u001b[0m     \u001b[38;5;28;01mreturn\u001b[39;00m DataFrame(jdf, \u001b[38;5;28mself\u001b[39m\u001b[38;5;241m.\u001b[39msparkSession)\n",
      "File \u001b[1;32mD:\\UKP\\BigData\\Spark\\spark-3.5.1-bin-hadoop3\\python\\lib\\py4j-0.10.9.7-src.zip\\py4j\\java_gateway.py:1322\u001b[0m, in \u001b[0;36mJavaMember.__call__\u001b[1;34m(self, *args)\u001b[0m\n\u001b[0;32m   1316\u001b[0m command \u001b[38;5;241m=\u001b[39m proto\u001b[38;5;241m.\u001b[39mCALL_COMMAND_NAME \u001b[38;5;241m+\u001b[39m\\\n\u001b[0;32m   1317\u001b[0m     \u001b[38;5;28mself\u001b[39m\u001b[38;5;241m.\u001b[39mcommand_header \u001b[38;5;241m+\u001b[39m\\\n\u001b[0;32m   1318\u001b[0m     args_command \u001b[38;5;241m+\u001b[39m\\\n\u001b[0;32m   1319\u001b[0m     proto\u001b[38;5;241m.\u001b[39mEND_COMMAND_PART\n\u001b[0;32m   1321\u001b[0m answer \u001b[38;5;241m=\u001b[39m \u001b[38;5;28mself\u001b[39m\u001b[38;5;241m.\u001b[39mgateway_client\u001b[38;5;241m.\u001b[39msend_command(command)\n\u001b[1;32m-> 1322\u001b[0m return_value \u001b[38;5;241m=\u001b[39m get_return_value(\n\u001b[0;32m   1323\u001b[0m     answer, \u001b[38;5;28mself\u001b[39m\u001b[38;5;241m.\u001b[39mgateway_client, \u001b[38;5;28mself\u001b[39m\u001b[38;5;241m.\u001b[39mtarget_id, \u001b[38;5;28mself\u001b[39m\u001b[38;5;241m.\u001b[39mname)\n\u001b[0;32m   1325\u001b[0m \u001b[38;5;28;01mfor\u001b[39;00m temp_arg \u001b[38;5;129;01min\u001b[39;00m temp_args:\n\u001b[0;32m   1326\u001b[0m     \u001b[38;5;28;01mif\u001b[39;00m \u001b[38;5;28mhasattr\u001b[39m(temp_arg, \u001b[38;5;124m\"\u001b[39m\u001b[38;5;124m_detach\u001b[39m\u001b[38;5;124m\"\u001b[39m):\n",
      "File \u001b[1;32mD:\\UKP\\BigData\\Spark\\spark-3.5.1-bin-hadoop3\\python\\lib\\pyspark.zip\\pyspark\\errors\\exceptions\\captured.py:185\u001b[0m, in \u001b[0;36mcapture_sql_exception.<locals>.deco\u001b[1;34m(*a, **kw)\u001b[0m\n\u001b[0;32m    181\u001b[0m converted \u001b[38;5;241m=\u001b[39m convert_exception(e\u001b[38;5;241m.\u001b[39mjava_exception)\n\u001b[0;32m    182\u001b[0m \u001b[38;5;28;01mif\u001b[39;00m \u001b[38;5;129;01mnot\u001b[39;00m \u001b[38;5;28misinstance\u001b[39m(converted, UnknownException):\n\u001b[0;32m    183\u001b[0m     \u001b[38;5;66;03m# Hide where the exception came from that shows a non-Pythonic\u001b[39;00m\n\u001b[0;32m    184\u001b[0m     \u001b[38;5;66;03m# JVM exception message.\u001b[39;00m\n\u001b[1;32m--> 185\u001b[0m     \u001b[38;5;28;01mraise\u001b[39;00m converted \u001b[38;5;28;01mfrom\u001b[39;00m \u001b[38;5;28;01mNone\u001b[39;00m\n\u001b[0;32m    186\u001b[0m \u001b[38;5;28;01melse\u001b[39;00m:\n\u001b[0;32m    187\u001b[0m     \u001b[38;5;28;01mraise\u001b[39;00m\n",
      "\u001b[1;31mAnalysisException\u001b[0m: [UNRESOLVED_COLUMN.WITH_SUGGESTION] A column or function parameter with name `Household_Size` cannot be resolved. Did you mean one of the following? [`Housing_Type`, `children`, `Income_Type`, `email`, `employed`].;\n'Project [Income#2040, Age#536L, Employed#601L, 'Household_Size]\n+- Project [id#17, gender#1960, own_car#1980, own_property#2000, children#2020, income#2040, Income_Type#2552, Education#2524, family_status#2100, Housing_Type#2496, age_in_days#2277, employment_in_days#2297, work_phone#2159, phone#2179, email#2199, occupation_type#976, family_members#2219, age#536L, employed#601L, begin_month#2441, CASE WHEN ((Family_Status#2100 = Civil marriage) OR (Family_Status#2100 = Married)) THEN 1 ELSE 0 END AS In_Relationship#2580]\n   +- Project [id#17, gender#1960, own_car#1980, own_property#2000, children#2020, income#2040, CASE WHEN (Income_Type#2060 = Working) THEN Working WHEN (Income_Type#2060 = Commercial associate) THEN Working WHEN (Income_Type#2060 = State servant) THEN Working WHEN (Income_Type#2060 = Pensioner) THEN Pensioner WHEN (Income_Type#2060 = Student) THEN Student ELSE Income_Type#2060 END AS Income_Type#2552, Education#2524, family_status#2100, Housing_Type#2496, age_in_days#2277, employment_in_days#2297, work_phone#2159, phone#2179, email#2199, occupation_type#976, family_members#2219, age#536L, employed#601L, begin_month#2441]\n      +- Project [id#17, gender#1960, own_car#1980, own_property#2000, children#2020, income#2040, income_type#2060, CASE WHEN (Education#2080 = Secondary / secondary special) THEN secondary WHEN (Education#2080 = Lower secondary) THEN secondary WHEN (Education#2080 = Higher education) THEN Higher education WHEN (Education#2080 = Incomplete higher) THEN Higher education WHEN (Education#2080 = Academic degree) THEN Academic degree ELSE Education#2080 END AS Education#2524, family_status#2100, Housing_Type#2496, age_in_days#2277, employment_in_days#2297, work_phone#2159, phone#2179, email#2199, occupation_type#976, family_members#2219, age#536L, employed#601L, begin_month#2441]\n         +- Project [id#17, gender#1960, own_car#1980, own_property#2000, children#2020, income#2040, income_type#2060, education#2080, family_status#2100, CASE WHEN (Housing_Type#2120 = With parents) THEN With parents WHEN (Housing_Type#2120 = House / apartment) THEN House / apartment WHEN (Housing_Type#2120 = Municipal apartment) THEN House / apartment WHEN (Housing_Type#2120 = Rented apartment) THEN House / apartment WHEN (Housing_Type#2120 = Office apartment) THEN House / apartment WHEN (Housing_Type#2120 = Co-op apartment) THEN House / apartment ELSE Housing_Type#2120 END AS Housing_Type#2496, age_in_days#2277, employment_in_days#2297, work_phone#2159, phone#2179, email#2199, occupation_type#976, family_members#2219, age#536L, employed#601L, begin_month#2441]\n            +- Project [id#17, gender#1960, own_car#1980, own_property#2000, children#2020, income#2040, income_type#2060, education#2080, family_status#2100, housing_type#2120, age_in_days#2277, employment_in_days#2297, work_phone#2159, phone#2179, email#2199, occupation_type#976, family_members#2219, age#536L, employed#601L, begin_month#2441]\n               +- Join LeftOuter, (id#17 = ID#1160)\n                  :- Project [id#17, gender#1960, own_car#1980, own_property#2000, children#2020, income#2040, income_type#2060, education#2080, family_status#2100, housing_type#2120, age_in_days#2277, days_employed#28 AS employment_in_days#2297, work_phone#2159, phone#2179, email#2199, occupation_type#976, family_members#2219, age#536L, employed#601L]\n                  :  +- Project [id#17, gender#1960, own_car#1980, own_property#2000, children#2020, income#2040, income_type#2060, education#2080, family_status#2100, housing_type#2120, days_birth#27 AS age_in_days#2277, days_employed#28, work_phone#2159, phone#2179, email#2199, occupation_type#976, family_members#2219, age#536L, employed#601L]\n                  :     +- Project [id#17, gender#1960, own_car#1980, own_property#2000, children#2020, income#2040, income_type#2060, education#2080, family_status#2100, housing_type#2120, days_birth#27, days_employed#28, work_phone#2159, phone#2179, email#2199, occupation_type#976, cnt_fam_members#433 AS family_members#2219, age#536L, employed#601L]\n                  :        +- Project [id#17, gender#1960, own_car#1980, own_property#2000, children#2020, income#2040, income_type#2060, education#2080, family_status#2100, housing_type#2120, days_birth#27, days_employed#28, work_phone#2159, phone#2179, flag_email#32 AS email#2199, occupation_type#976, cnt_fam_members#433, age#536L, employed#601L]\n                  :           +- Project [id#17, gender#1960, own_car#1980, own_property#2000, children#2020, income#2040, income_type#2060, education#2080, family_status#2100, housing_type#2120, days_birth#27, days_employed#28, work_phone#2159, flag_phone#31 AS phone#2179, flag_email#32, occupation_type#976, cnt_fam_members#433, age#536L, employed#601L]\n                  :              +- Project [id#17, gender#1960, own_car#1980, own_property#2000, children#2020, income#2040, income_type#2060, education#2080, family_status#2100, housing_type#2120, days_birth#27, days_employed#28, flag_work_phone#30 AS work_phone#2159, flag_phone#31, flag_email#32, occupation_type#976, cnt_fam_members#433, age#536L, employed#601L]\n                  :                 +- Project [id#17, gender#1960, own_car#1980, own_property#2000, children#2020, income#2040, income_type#2060, education#2080, family_status#2100, name_housing_type#26 AS housing_type#2120, days_birth#27, days_employed#28, flag_work_phone#30, flag_phone#31, flag_email#32, occupation_type#976, cnt_fam_members#433, age#536L, employed#601L]\n                  :                    +- Project [id#17, gender#1960, own_car#1980, own_property#2000, children#2020, income#2040, income_type#2060, education#2080, name_family_status#25 AS family_status#2100, name_housing_type#26, days_birth#27, days_employed#28, flag_work_phone#30, flag_phone#31, flag_email#32, occupation_type#976, cnt_fam_members#433, age#536L, employed#601L]\n                  :                       +- Project [id#17, gender#1960, own_car#1980, own_property#2000, children#2020, income#2040, income_type#2060, name_education_type#24 AS education#2080, name_family_status#25, name_housing_type#26, days_birth#27, days_employed#28, flag_work_phone#30, flag_phone#31, flag_email#32, occupation_type#976, cnt_fam_members#433, age#536L, employed#601L]\n                  :                          +- Project [id#17, gender#1960, own_car#1980, own_property#2000, children#2020, income#2040, name_income_type#23 AS income_type#2060, name_education_type#24, name_family_status#25, name_housing_type#26, days_birth#27, days_employed#28, flag_work_phone#30, flag_phone#31, flag_email#32, occupation_type#976, cnt_fam_members#433, age#536L, employed#601L]\n                  :                             +- Project [id#17, gender#1960, own_car#1980, own_property#2000, children#2020, amt_income_total#22 AS income#2040, name_income_type#23, name_education_type#24, name_family_status#25, name_housing_type#26, days_birth#27, days_employed#28, flag_work_phone#30, flag_phone#31, flag_email#32, occupation_type#976, cnt_fam_members#433, age#536L, employed#601L]\n                  :                                +- Project [id#17, gender#1960, own_car#1980, own_property#2000, cnt_children#21 AS children#2020, amt_income_total#22, name_income_type#23, name_education_type#24, name_family_status#25, name_housing_type#26, days_birth#27, days_employed#28, flag_work_phone#30, flag_phone#31, flag_email#32, occupation_type#976, cnt_fam_members#433, age#536L, employed#601L]\n                  :                                   +- Project [id#17, gender#1960, own_car#1980, flag_own_realty#415 AS own_property#2000, cnt_children#21, amt_income_total#22, name_income_type#23, name_education_type#24, name_family_status#25, name_housing_type#26, days_birth#27, days_employed#28, flag_work_phone#30, flag_phone#31, flag_email#32, occupation_type#976, cnt_fam_members#433, age#536L, employed#601L]\n                  :                                      +- Project [id#17, gender#1960, flag_own_car#397 AS own_car#1980, flag_own_realty#415, cnt_children#21, amt_income_total#22, name_income_type#23, name_education_type#24, name_family_status#25, name_housing_type#26, days_birth#27, days_employed#28, flag_work_phone#30, flag_phone#31, flag_email#32, occupation_type#976, cnt_fam_members#433, age#536L, employed#601L]\n                  :                                         +- Project [id#17, code_gender#379 AS gender#1960, flag_own_car#397, flag_own_realty#415, cnt_children#21, amt_income_total#22, name_income_type#23, name_education_type#24, name_family_status#25, name_housing_type#26, days_birth#27, days_employed#28, flag_work_phone#30, flag_phone#31, flag_email#32, occupation_type#976, cnt_fam_members#433, age#536L, employed#601L]\n                  :                                            +- Project [id#17, code_gender#379, flag_own_car#397, flag_own_realty#415, cnt_children#21, amt_income_total#22, name_income_type#23, name_education_type#24, name_family_status#25, name_housing_type#26, days_birth#27, days_employed#28, flag_work_phone#30, flag_phone#31, flag_email#32, occupation_type#976, cnt_fam_members#433, age#536L, employed#601L]\n                  :                                               +- Project [id#17, code_gender#379, flag_own_car#397, flag_own_realty#415, cnt_children#21, amt_income_total#22, name_income_type#23, name_education_type#24, name_family_status#25, name_housing_type#26, days_birth#27, days_employed#28, flag_work_phone#30, flag_phone#31, flag_email#32, coalesce(occupation_type#769, filled_occupation_type#953) AS occupation_type#976, cnt_fam_members#433, age#536L, employed#601L, amt_income_total_with_null#931, filled_occupation_type#953]\n                  :                                                  +- Project [id#17, code_gender#379, flag_own_car#397, flag_own_realty#415, cnt_children#21, amt_income_total#22, name_income_type#23, name_education_type#24, name_family_status#25, name_housing_type#26, days_birth#27, days_employed#28, flag_work_phone#30, flag_phone#31, flag_email#32, occupation_type#769, cnt_fam_members#433, age#536L, employed#601L, amt_income_total_with_null#931, filled_occupation_type#953]\n                  :                                                     +- Project [id#17, code_gender#379, flag_own_car#397, flag_own_realty#415, cnt_children#21, amt_income_total#22, name_income_type#23, name_education_type#24, name_family_status#25, name_housing_type#26, days_birth#27, days_employed#28, flag_work_phone#30, flag_phone#31, flag_email#32, occupation_type#769, cnt_fam_members#433, age#536L, employed#601L, amt_income_total_with_null#931, _w0#954, filled_occupation_type#953, filled_occupation_type#953]\n                  :                                                        +- Window [first(occupation_type#769, true) windowspecdefinition(name_income_type#23, _w0#954 ASC NULLS FIRST, specifiedwindowframe(RangeFrame, unboundedpreceding$(), currentrow$())) AS filled_occupation_type#953], [name_income_type#23], [_w0#954 ASC NULLS FIRST]\n                  :                                                           +- Project [id#17, code_gender#379, flag_own_car#397, flag_own_realty#415, cnt_children#21, amt_income_total#22, name_income_type#23, name_education_type#24, name_family_status#25, name_housing_type#26, days_birth#27, days_employed#28, flag_work_phone#30, flag_phone#31, flag_email#32, occupation_type#769, cnt_fam_members#433, age#536L, employed#601L, amt_income_total_with_null#931, abs((amt_income_total#22 - amt_income_total_with_null#931)) AS _w0#954]\n                  :                                                              +- Project [id#17, code_gender#379, flag_own_car#397, flag_own_realty#415, cnt_children#21, amt_income_total#22, name_income_type#23, name_education_type#24, name_family_status#25, name_housing_type#26, days_birth#27, days_employed#28, flag_work_phone#30, flag_phone#31, flag_email#32, occupation_type#769, cnt_fam_members#433, age#536L, employed#601L, CASE WHEN isnull(occupation_type#769) THEN amt_income_total#22 END AS amt_income_total_with_null#931]\n                  :                                                                 +- Project [id#17, code_gender#379, flag_own_car#397, flag_own_realty#415, cnt_children#21, amt_income_total#22, name_income_type#23, name_education_type#24, name_family_status#25, name_housing_type#26, days_birth#27, days_employed#28, flag_work_phone#30, flag_phone#31, flag_email#32, occupation_type#769, cnt_fam_members#433, age#536L, employed#601L]\n                  :                                                                    +- Project [id#17, code_gender#379, flag_own_car#397, flag_own_realty#415, cnt_children#21, amt_income_total#22, name_income_type#23, name_education_type#24, name_family_status#25, name_housing_type#26, days_birth#27, days_employed#28, flag_work_phone#30, flag_phone#31, flag_email#32, coalesce(occupation_type#33, filled_occupation_type#748) AS occupation_type#769, cnt_fam_members#433, age#536L, employed#601L, filled_occupation_type#748]\n                  :                                                                       +- Project [id#17, code_gender#379, flag_own_car#397, flag_own_realty#415, cnt_children#21, amt_income_total#22, name_income_type#23, name_education_type#24, name_family_status#25, name_housing_type#26, days_birth#27, days_employed#28, flag_work_phone#30, flag_phone#31, flag_email#32, occupation_type#33, cnt_fam_members#433, age#536L, employed#601L, filled_occupation_type#748]\n                  :                                                                          +- Project [id#17, code_gender#379, flag_own_car#397, flag_own_realty#415, cnt_children#21, amt_income_total#22, name_income_type#23, name_education_type#24, name_family_status#25, name_housing_type#26, days_birth#27, days_employed#28, flag_work_phone#30, flag_phone#31, flag_email#32, occupation_type#33, cnt_fam_members#433, age#536L, employed#601L, filled_occupation_type#748, filled_occupation_type#748]\n                  :                                                                             +- Window [first(occupation_type#33, true) windowspecdefinition(amt_income_total#22, name_income_type#23, specifiedwindowframe(RowFrame, unboundedpreceding$(), unboundedfollowing$())) AS filled_occupation_type#748], [amt_income_total#22, name_income_type#23]\n                  :                                                                                +- Project [id#17, code_gender#379, flag_own_car#397, flag_own_realty#415, cnt_children#21, amt_income_total#22, name_income_type#23, name_education_type#24, name_family_status#25, name_housing_type#26, days_birth#27, days_employed#28, flag_work_phone#30, flag_phone#31, flag_email#32, occupation_type#33, cnt_fam_members#433, age#536L, employed#601L]\n                  :                                                                                   +- Project [id#17, code_gender#379, flag_own_car#397, flag_own_realty#415, cnt_children#21, amt_income_total#22, name_income_type#23, name_education_type#24, name_family_status#25, name_housing_type#26, days_birth#27, days_employed#28, flag_work_phone#30, flag_phone#31, flag_email#32, occupation_type#33, cnt_fam_members#433, age#536L, CASE WHEN (employed#562L < cast(0 as bigint)) THEN cast(0 as bigint) ELSE employed#562L END AS employed#601L]\n                  :                                                                                      +- Project [id#17, code_gender#379, flag_own_car#397, flag_own_realty#415, cnt_children#21, amt_income_total#22, name_income_type#23, name_education_type#24, name_family_status#25, name_housing_type#26, days_birth#27, days_employed#28, flag_work_phone#30, flag_phone#31, flag_email#32, occupation_type#33, cnt_fam_members#433, age#536L, (FLOOR((cast(days_employed#28 as double) / cast(365.25 as double))) * cast(-1 as bigint)) AS employed#562L]\n                  :                                                                                         +- Project [id#17, code_gender#379, flag_own_car#397, flag_own_realty#415, cnt_children#21, amt_income_total#22, name_income_type#23, name_education_type#24, name_family_status#25, name_housing_type#26, days_birth#27, days_employed#28, flag_work_phone#30, flag_phone#31, flag_email#32, occupation_type#33, cnt_fam_members#433, (FLOOR((cast(days_birth#27 as double) / cast(365.25 as double))) * cast(-1 as bigint)) AS age#536L]\n                  :                                                                                            +- Project [id#17, code_gender#379, flag_own_car#397, flag_own_realty#415, cnt_children#21, amt_income_total#22, name_income_type#23, name_education_type#24, name_family_status#25, name_housing_type#26, days_birth#27, days_employed#28, flag_work_phone#30, flag_phone#31, flag_email#32, occupation_type#33, cast(cnt_fam_members#34 as int) AS cnt_fam_members#433]\n                  :                                                                                               +- Project [id#17, code_gender#379, flag_own_car#397, CASE WHEN (flag_own_car#397 = cast(Y as int)) THEN 1 ELSE 0 END AS flag_own_realty#415, cnt_children#21, amt_income_total#22, name_income_type#23, name_education_type#24, name_family_status#25, name_housing_type#26, days_birth#27, days_employed#28, flag_work_phone#30, flag_phone#31, flag_email#32, occupation_type#33, cnt_fam_members#34]\n                  :                                                                                                  +- Project [id#17, code_gender#379, CASE WHEN (flag_own_car#19 = Y) THEN 1 ELSE 0 END AS flag_own_car#397, flag_own_realty#20, cnt_children#21, amt_income_total#22, name_income_type#23, name_education_type#24, name_family_status#25, name_housing_type#26, days_birth#27, days_employed#28, flag_work_phone#30, flag_phone#31, flag_email#32, occupation_type#33, cnt_fam_members#34]\n                  :                                                                                                     +- Project [id#17, CASE WHEN (code_gender#18 = F) THEN 1 ELSE 0 END AS code_gender#379, flag_own_car#19, flag_own_realty#20, cnt_children#21, amt_income_total#22, name_income_type#23, name_education_type#24, name_family_status#25, name_housing_type#26, days_birth#27, days_employed#28, flag_work_phone#30, flag_phone#31, flag_email#32, occupation_type#33, cnt_fam_members#34]\n                  :                                                                                                        +- Project [id#17, code_gender#18, flag_own_car#19, flag_own_realty#20, cnt_children#21, amt_income_total#22, name_income_type#23, name_education_type#24, name_family_status#25, name_housing_type#26, days_birth#27, days_employed#28, flag_work_phone#30, flag_phone#31, flag_email#32, occupation_type#33, cnt_fam_members#34]\n                  :                                                                                                           +- Relation [ID#17,CODE_GENDER#18,FLAG_OWN_CAR#19,FLAG_OWN_REALTY#20,CNT_CHILDREN#21,AMT_INCOME_TOTAL#22,NAME_INCOME_TYPE#23,NAME_EDUCATION_TYPE#24,NAME_FAMILY_STATUS#25,NAME_HOUSING_TYPE#26,DAYS_BIRTH#27,DAYS_EMPLOYED#28,FLAG_MOBIL#29,FLAG_WORK_PHONE#30,FLAG_PHONE#31,FLAG_EMAIL#32,OCCUPATION_TYPE#33,CNT_FAM_MEMBERS#34] csv\n                  +- Aggregate [ID#1160], [ID#1160, min(MONTHS_BALANCE#1161) AS begin_month#2441]\n                     +- Filter (MONTHS_BALANCE#1161 >= -6)\n                        +- Filter (MONTHS_BALANCE#1161 >= -6)\n                           +- Relation [ID#1160,MONTHS_BALANCE#1161,STATUS#1162] csv\n"
     ]
    }
   ],
   "source": [
    "import plotly.graph_objects as go\n",
    "from plotly.subplots import make_subplots\n",
    "\n",
    "data_to_plot = customer_data.select(\"Income\", \"Age\", \"Employed\", \"Household_Size\").toPandas()\n",
    "\n",
    "# Create subplot structure\n",
    "fig = make_subplots(rows=2, cols=2, start_cell=\"bottom-left\",\n",
    "                    subplot_titles=(\"Income\", \"Age\", \"Employed\", \"Household Size\"))\n",
    "\n",
    "# Add box plots\n",
    "fig.add_trace(go.Box(x=data_to_plot['Income'], name='Income', boxmean='sd'), row=1, col=1)\n",
    "fig.add_trace(go.Box(x=data_to_plot['Age'], name='Age', boxmean='sd'), row=1, col=2)\n",
    "fig.add_trace(go.Box(x=data_to_plot['Employed'], name='Experience', boxmean='sd'), row=2, col=1)\n",
    "fig.add_trace(go.Box(x=data_to_plot['Household_Size'], name='Household Size', boxmean='sd'), row=2, col=2)\n",
    "\n",
    "# Display the figure\n",
    "fig.show()"
   ]
  }
 ],
 "metadata": {
  "kernelspec": {
   "display_name": "Python (bigdata)",
   "language": "python",
   "name": "bigdata"
  },
  "language_info": {
   "codemirror_mode": {
    "name": "ipython",
    "version": 3
   },
   "file_extension": ".py",
   "mimetype": "text/x-python",
   "name": "python",
   "nbconvert_exporter": "python",
   "pygments_lexer": "ipython3",
   "version": "3.11.8"
  }
 },
 "nbformat": 4,
 "nbformat_minor": 5
}
